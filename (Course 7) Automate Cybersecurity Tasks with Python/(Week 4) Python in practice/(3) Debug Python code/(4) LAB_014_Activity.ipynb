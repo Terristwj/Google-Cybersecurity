{
 "cells": [
  {
   "cell_type": "markdown",
   "metadata": {
    "id": "wFcD0whLvLTP"
   },
   "source": [
    "# Activity: Debug Python Code"
   ]
  },
  {
   "cell_type": "markdown",
   "metadata": {
    "id": "ivt8p77hCKcO"
   },
   "source": [
    "## Introduction\n",
    "\n",
    "One of the biggest challenges faced by analysts is ensuring that automated processes run smoothly. Debugging is an important practice that security analysts incorporate in their work to identify errors in code and resolve them so that the code achieves the desired outcome. \n",
    "\n",
    "Through a series of tasks in this lab, you'll develop and apply your debugging skills in Python."
   ]
  },
  {
   "cell_type": "markdown",
   "metadata": {
    "id": "eW4pA4LsC-vb"
   },
   "source": [
    "<details><summary><h2>Tips for completing this lab</h2></summary>\n",
    "\n",
    "As you navigate this lab, keep the following tips in mind:\n",
    "\n",
    "- `### YOUR CODE HERE ###` indicates where you should write code. Be sure to replace this with your own code before running the code cell.\n",
    "- Feel free to open the hints for additional guidance as you work on each task. \n",
    "- To enter your answer to a question, double-click the markdown cell to edit. Be sure to replace the \"[Double-click to enter your responses here.]\" with your own answer.\n",
    "- You can save your work manually by clicking File and then Save in the menu bar at the top of the notebook. \n",
    "- You can download your work locally by clicking File and then Download and then specifying your preferred file format in the menu bar at the top of the notebook. \n",
    "</details>"
   ]
  },
  {
   "cell_type": "markdown",
   "metadata": {
    "id": "A8q3M1L7isIj"
   },
   "source": [
    "## Scenario\n",
    "\n",
    "In your work as a security analyst, you need to apply debugging strategies to ensure your code works properly.\n",
    "\n",
    "Throughout this lab, you'll work with code that is similar to what you've written before, but now it has some errors that need to be fixed. You'll need to read code cells, run them, identify the errors, and adjust the code to resolve the errors."
   ]
  },
  {
   "cell_type": "markdown",
   "metadata": {
    "id": "ytgkadfzRQE5"
   },
   "source": [
    "## Task 1\n",
    "\n",
    "The following code cell contains a syntax error. In this task, you'll run the code, identify why the error is occuring, and modify the code to resolve it. (To ensure that it has been resolved, run the code again to check if it now functions properly.)"
   ]
  },
  {
   "cell_type": "code",
   "execution_count": null,
   "metadata": {
    "id": "_Ts_iS8EWZvs"
   },
   "outputs": [],
   "source": [
    "# For loop that iterates over a range of numbers\n",
    "# and displays a message each iteration\n",
    "\n",
    "for i in range(10)\n",
    "    print(\"Connection cannot be established\")"
   ]
  },
  {
   "cell_type": "markdown",
   "metadata": {
    "id": "N4iCk5h-BEW4"
   },
   "source": [
    "<details>\n",
    "  <summary><h4><strong>Hint 1</strong></h4></summary>\n",
    "\n",
    "The header of a `for` loop in Python requires specific punctuation at the end. \n",
    "\n",
    "</details>"
   ]
  },
  {
   "cell_type": "markdown",
   "metadata": {
    "id": "SI4AQbNanqDm"
   },
   "source": [
    "<details>\n",
    "  <summary><h4><strong>Hint 2</strong></h4></summary>\n",
    "\n",
    "The header of a `for` loop in Python requires a colon (`:`) at the end.  \n",
    "\n",
    "</details>"
   ]
  },
  {
   "cell_type": "markdown",
   "metadata": {
    "id": "haLsZKt-R2og"
   },
   "source": [
    "#### **Question 1**\n",
    "**What happens when you run the code before modifying it? How can you fix this?**"
   ]
  },
  {
   "cell_type": "markdown",
   "metadata": {
    "id": "9epEk8wkSB4x"
   },
   "source": [
    "[Double-click to enter your responses here.]"
   ]
  },
  {
   "cell_type": "markdown",
   "metadata": {
    "id": "_OJCHm00RiSk"
   },
   "source": [
    "## Task 2\n",
    "In the following code cell, you're provided a list of usernames. There is an issue with the syntax. In this task, you'll run the cell, observe what happens, and modify the code to fix the issue."
   ]
  },
  {
   "cell_type": "code",
   "execution_count": null,
   "metadata": {
    "id": "Juc9sShCQdt6"
   },
   "outputs": [],
   "source": [
    "# Assign `usernames_list` to a list of usernames\n",
    "\n",
    "usernames_list = [\"djames\", \"jpark\", \"tbailey\", \"zdutchma \"esmith\", \"srobinso\", \"dcoleman\", \"fbautist\"]\n",
    "\n",
    "# Display `usernames_list`\n",
    "\n",
    "print(usernames_list)"
   ]
  },
  {
   "cell_type": "markdown",
   "metadata": {
    "id": "cjD2enJLQ_U9"
   },
   "source": [
    "<details>\n",
    "  <summary><h4><strong>Hint 1</strong></h4></summary>\n",
    "\n",
    "Each element in `usernames_list` is a username and should be a string. In Python, a string should have quotation marks around it.\n",
    "\n",
    "</details>"
   ]
  },
  {
   "cell_type": "markdown",
   "metadata": {
    "id": "zSA3MVwqQ_U-"
   },
   "source": [
    "<details>\n",
    "  <summary><h4><strong>Hint 2</strong></h4></summary>\n",
    "\n",
    "When creating a list in Python, the elements of the list should be separated with commas. There should be a comma between every two consecutive elements. \n",
    "\n",
    "</details>"
   ]
  },
  {
   "cell_type": "markdown",
   "metadata": {
    "id": "m0Qs82zqS2vv"
   },
   "source": [
    "#### **Question 2**\n",
    "**What happens when you run the code before modifying it? How can you fix it?**"
   ]
  },
  {
   "cell_type": "markdown",
   "metadata": {
    "id": "ZohCbcZXS2vv"
   },
   "source": [
    "[Double-click to enter your responses here.]"
   ]
  },
  {
   "cell_type": "markdown",
   "metadata": {
    "id": "foJ_J8Cg5T7p"
   },
   "source": [
    "## Task 3\n",
    "In the following code cell, there is a syntax error. Your task is to run the cell, identify what is causing the error, and fix it."
   ]
  },
  {
   "cell_type": "code",
   "execution_count": null,
   "metadata": {
    "id": "GMBNs-7BRvKl"
   },
   "outputs": [],
   "source": [
    "# Display a message in upper case \n",
    "\n",
    "print(\"update needed\".upper()"
   ]
  },
  {
   "cell_type": "markdown",
   "metadata": {
    "id": "XQjlLUPzVTDO"
   },
   "source": [
    "<details>\n",
    "  <summary><h4><strong>Hint 1</strong></h4></summary>\n",
    "\n",
    "Calling a function in Python requires both opening and closing parantheses. \n",
    "\n",
    "</details>"
   ]
  },
  {
   "cell_type": "markdown",
   "metadata": {
    "id": "LxfLdF94VTDO"
   },
   "source": [
    "<details>\n",
    "  <summary><h4><strong>Hint 2</strong></h4></summary>\n",
    "\n",
    "In the code above, check that each function call has both opening and closing parantheses. \n",
    "\n",
    "</details>"
   ]
  },
  {
   "cell_type": "markdown",
   "metadata": {
    "id": "F3g_1WasUf3E"
   },
   "source": [
    "#### **Question 3**\n",
    "**What happens when you run the code before modifying it? What is causing the syntax error? How can you fix it?**"
   ]
  },
  {
   "cell_type": "markdown",
   "metadata": {
    "id": "cy9TlpIDUf3F"
   },
   "source": [
    "[Double-click to enter your responses here.]"
   ]
  },
  {
   "cell_type": "markdown",
   "metadata": {
    "id": "OJ7d7WFy5VL_"
   },
   "source": [
    "## Task 4\n",
    "In the following code cell, you're provided a `usernames_list`, a `username`, and code that determines whether the username is approved. There are two syntax errors and one exception. Your task is to find them and fix the code. A helpful debugging strategy is to focus on one error at a time and run the code after fixing each one."
   ]
  },
  {
   "cell_type": "code",
   "execution_count": null,
   "metadata": {
    "id": "Vx5AdI-8XNCI"
   },
   "outputs": [],
   "source": [
    "# Assign `usernames_list` to a list of usernames that represent approved users\n",
    "\n",
    "usernames_list = [\"djames\", \"jpark\", \"tbailey\", \"zdutchma\", \"esmith\", \"srobinso\", \"dcoleman\", \"fbautist\"]\n",
    "\n",
    "# Assign `username` to a specific username \n",
    "\n",
    "username = \"esmith\"\n",
    "\n",
    "# For loop that iterates over the elements of `usernames_list` and determines whether each element corresponds to an approved user\n",
    "\n",
    "for name in username_list:\n",
    "\n",
    "    # Check if `name` matches `username` \n",
    "    # If it does match, then display a message accordingly \n",
    "\n",
    "    if name = username:\n",
    "    print(\"The user is an approved user\")"
   ]
  },
  {
   "cell_type": "markdown",
   "metadata": {
    "id": "qQhHGraDZgTs"
   },
   "source": [
    "<details>\n",
    "  <summary><h4><strong>Hint 1</strong></h4></summary>\n",
    "\n",
    "In Python, the `=` assignment operator allows you to assign or reassign a variable to a value, and the `==` comparison operator allows you to compare one value to another (or the value of one variable to the value of another). \n",
    "\n",
    "</details>"
   ]
  },
  {
   "cell_type": "markdown",
   "metadata": {
    "id": "IpfqcfmSayyy"
   },
   "source": [
    "<details>\n",
    "  <summary><h4><strong>Hint 2</strong></h4></summary>\n",
    "\n",
    "Indentation is important in Python syntax. Check that the indentation inside the `for` loop and the indentation inside the `if` statement are correct.\n",
    "\n",
    "</details>"
   ]
  },
  {
   "cell_type": "markdown",
   "metadata": {
    "id": "VTsJ6HjQZgTk"
   },
   "source": [
    "<details>\n",
    "  <summary><h4><strong>Hint 3</strong></h4></summary>\n",
    "\n",
    "Check that each time a variable is used, it's spelled in the same way it was spelled when it was assigned.\n",
    "\n",
    "</details>"
   ]
  },
  {
   "cell_type": "markdown",
   "metadata": {
    "id": "nTj-r29dXWqS"
   },
   "source": [
    "#### **Question 4**\n",
    "**What happens when you run the code before modifying it? What is causing the errors? How can you fix it?**"
   ]
  },
  {
   "cell_type": "markdown",
   "metadata": {
    "id": "J6QWmFNDXWqT"
   },
   "source": [
    "[Double-click to enter your responses here.]"
   ]
  },
  {
   "cell_type": "markdown",
   "metadata": {
    "id": "l302EqWo5XLF"
   },
   "source": [
    "## Task 5\n",
    "\n",
    "In this task, you'll examine the following code and identify the type of error that occurs. Then, you'll adjust the code to fix the error."
   ]
  },
  {
   "cell_type": "code",
   "execution_count": null,
   "metadata": {
    "id": "rHQMQuH7bVLg"
   },
   "outputs": [],
   "source": [
    "# Assign `usernames_list` to a list of usernames\n",
    "\n",
    "usernames_list = [\"elarson\", \"bmoreno\", \"tshah\", \"sgilmore\", \"eraab\"]\n",
    "\n",
    "# Assign `username` to a specific username\n",
    "\n",
    "username = \"eraab\"\n",
    "\n",
    "# Determine whether `username` is the final username in `usernames_list` \n",
    "# If it is, then display a message accordingly \n",
    "\n",
    "if username == usernames_list[5]:\n",
    "    print(\"This username is the final one in the list.\")"
   ]
  },
  {
   "cell_type": "markdown",
   "metadata": {
    "id": "BWZl1RNtcnfG"
   },
   "source": [
    "<details>\n",
    "  <summary><h4><strong>Hint 1</strong></h4></summary>\n",
    "\n",
    "Recall that indexing in Python starts at `0`.\n",
    "\n",
    "</details>"
   ]
  },
  {
   "cell_type": "markdown",
   "metadata": {
    "id": "XE8_nGIacnfH"
   },
   "source": [
    "<details>\n",
    "  <summary><h4><strong>Hint 2</strong></h4></summary>\n",
    "\n",
    "Identify how many elements there are in the `usernames_list`.\n",
    "\n",
    "</details>"
   ]
  },
  {
   "cell_type": "markdown",
   "metadata": {
    "id": "iA2e2JzfcnfH"
   },
   "source": [
    "<details>\n",
    "  <summary><h4><strong>Hint 3</strong></h4></summary>\n",
    "\n",
    "Since indexing in Python starts at `0` and the `usernames_list` contains `5` elements, identify which index value corresponds to the final element in `usernames_list`.\n",
    "\n",
    "</details>"
   ]
  },
  {
   "cell_type": "markdown",
   "metadata": {
    "id": "vZ1oTR_JdM-P"
   },
   "source": [
    "#### **Question 5**\n",
    "**What happens when you run the code before modifying it? What type of error is this? How can you fix it?**"
   ]
  },
  {
   "cell_type": "markdown",
   "metadata": {
    "id": "p8PmzReNdM-P"
   },
   "source": [
    "[Double-click to enter your responses here.]"
   ]
  },
  {
   "cell_type": "markdown",
   "metadata": {
    "id": "DrEsqF4udQqm"
   },
   "source": [
    "## Task 6\n",
    "In this task, you'll examine the following code. The code imports a text file into Python, reads its contents, and stores the contents as a list in a variable named `ip_addresses`. It then removes elements from `ip_addresses` if they are in `remove_list`. There are three errors in total in the code: first a syntax error, then an exception related to a string method, and finally a logic error. Your goal is to find these errors and fix them."
   ]
  },
  {
   "cell_type": "code",
   "execution_count": null,
   "metadata": {
    "id": "Qm3VwuiolGOC"
   },
   "outputs": [],
   "source": [
    "# Assign `import_file` to the name of the text file\n",
    "\n",
    "import_file = \"allow_list.txt\"\n",
    "\n",
    "# Assign `remove_list` to a list of IP addressess that are no longer allowed to access the network \n",
    "\n",
    "remove_list = [\"192.168.97.225\", \"192.168.158.170\", \"192.168.201.40\", \"192.168.58.57\"]\n",
    "\n",
    "# With statement that reads in the text file and stores its contents as a list in `ip_addresses` \n",
    "\n",
    "with open(import_file, \"r\") as file\n",
    "    ip_addresses = file.read()\n",
    "\n",
    "# Convert `ip_addresses` from a string to a list\n",
    "\n",
    "ip_addresses = split.ip_addresses()\n",
    "\n",
    "# For loop that iterates over the elements in `ip_addresses` \n",
    "# and removes each element that corresponds to an IP address that is no longer allowed\n",
    "\n",
    "for element in ip_addresses:\n",
    "    if element in ip_addresses:\n",
    "        ip_addresses.remove(element)\n",
    "\n",
    "# Display `ip_addresses` after the removal process\n",
    "\n",
    "print(ip_addresses)"
   ]
  },
  {
   "cell_type": "markdown",
   "metadata": {
    "id": "GxO4n4bZqeDQ"
   },
   "source": [
    "<details>\n",
    "  <summary><h4><strong>Hint 1</strong></h4></summary>\n",
    "\n",
    "A `with` statement in Python requires a colon (`:`) at the end of the header.\n",
    "\n",
    "</details>"
   ]
  },
  {
   "cell_type": "markdown",
   "metadata": {
    "id": "3JwaSafrqeDY"
   },
   "source": [
    "<details>\n",
    "  <summary><h4><strong>Hint 2</strong></h4></summary>\n",
    "\n",
    "The `.split()` method in Python is used on strings to convert them to lists. To call the `.split()` method, place the string you want to split in front of the method call.\n",
    "\n",
    "</details>"
   ]
  },
  {
   "cell_type": "markdown",
   "metadata": {
    "id": "nGUUFwDwiFwV"
   },
   "source": [
    "<details>\n",
    "  <summary><h4><strong>Hint 3</strong></h4></summary>\n",
    "\n",
    "During each iteration of the `for` loop, the `if` statement needs to determine if the element is in the `remove_list`. Check which list is referenced in the `if` condition.\n",
    "\n",
    "</details>"
   ]
  },
  {
   "cell_type": "markdown",
   "metadata": {
    "id": "Us5ejcyxmVht"
   },
   "source": [
    "#### **Question 6**\n",
    "**What happens when you run the code before modifying it? What is causing the errors? How can you fix them?**"
   ]
  },
  {
   "cell_type": "markdown",
   "metadata": {
    "id": "rKrsejpdmVht"
   },
   "source": [
    "[Double-click to enter your responses here.]"
   ]
  },
  {
   "cell_type": "markdown",
   "metadata": {
    "id": "-mcSxgKsYZos"
   },
   "source": [
    "## Task 7\n",
    "In this final task, there are three operating systems: OS 1, OS 2, and OS 3. Each operating system needs a security patch by a specific date. The patch date for OS 1 is `\"March 1st\"`, the patch date for OS 2 is `\"April 1st\"`, and the patch date for OS 3 is `\"May 1st\"`. \n",
    "\n",
    "The following code stores one of these operating systems in a variable named `system`. Then, it uses conditionals to output the patch date for this operating system. \n",
    "\n",
    "However, this code has logic errors. Your goal is to assign the `system` variable to different values, run the code to examine the output, identify the error, and fix it."
   ]
  },
  {
   "cell_type": "code",
   "execution_count": null,
   "metadata": {
    "id": "E58SBhIZCbuH"
   },
   "outputs": [],
   "source": [
    "# Assign `system` to a specific operating system as a string\n",
    "\n",
    "system = \"OS 2\"\n",
    "\n",
    "# Assign `patch_schedule` to a list of patch dates in order of operating system\n",
    "\n",
    "patch_schedule = [\"March 1st\", \"April 1st\", \"May 1st\"]\n",
    "\n",
    "# Conditional statement that checks which operating system is stored in `system` and displays a message showing the corresponding patch date \n",
    "\n",
    "if system == \"OS 1\":\n",
    "    print(\"Patch date:\", patch_schedule[2])\n",
    "\n",
    "elif system == \"OS 2\":\n",
    "    print(\"Patch date:\", patch_schedule[0])\n",
    "\n",
    "elif system == \"OS 3\":\n",
    "    print(\"Patch date:\", patch_schedule[2])"
   ]
  },
  {
   "cell_type": "markdown",
   "metadata": {
    "id": "7so3r8ZOSHya"
   },
   "source": [
    "<details>\n",
    "  <summary><h4><strong>Hint 1</strong></h4></summary>\n",
    "\n",
    "Recall that indexing in Python starts at `0`.\n",
    "\n",
    "</details>"
   ]
  },
  {
   "cell_type": "markdown",
   "metadata": {
    "id": "J4r13sqiSHyb"
   },
   "source": [
    "<details>\n",
    "  <summary><h4><strong>Hint 2</strong></h4></summary>\n",
    "\n",
    "Note that the patch dates in `patch_schedule` are in order of operating system. The first patch date in `patch_schedule` corresponds to OS 1, the second patch date in `patch_schedule` corresponds to OS 2, and so on.\n",
    "\n",
    "</details>"
   ]
  },
  {
   "cell_type": "markdown",
   "metadata": {
    "id": "GyXRvxx6SHyb"
   },
   "source": [
    "<details>\n",
    "  <summary><h4><strong>Hint 3</strong></h4></summary>\n",
    "\n",
    "Since indexing in Python starts at `0` and `patch_schedule` is in order of operating system from OS 1 to OS 3, the index value `0` corresponds to the patch date for OS 1, the index value `1` corresponds to the patch date for OS 2, and so on.\n",
    "\n",
    "</details>"
   ]
  },
  {
   "cell_type": "markdown",
   "metadata": {
    "id": "5Zr0jDNsSHyb"
   },
   "source": [
    "#### **Question 7**\n",
    "**What happens when you run the code before modifying it? What is causing the logic errors? How can you fix them?**"
   ]
  },
  {
   "cell_type": "markdown",
   "metadata": {
    "id": "-frPvt5ESHyb"
   },
   "source": [
    "[Double-click to enter your responses here.]"
   ]
  },
  {
   "cell_type": "markdown",
   "metadata": {
    "id": "ru2ytGBLCh4q"
   },
   "source": [
    "## Conclusion\n",
    "\n",
    "**What are your key takeaways from this lab?**"
   ]
  },
  {
   "cell_type": "markdown",
   "metadata": {
    "id": "ls2WEGqsiSAd"
   },
   "source": [
    "[Double-click to enter your responses here.]"
   ]
  }
 ],
 "metadata": {
  "colab": {
   "provenance": [
    {
     "file_id": "1lZ-gaTtJDv2b8Sz6qrWl2bv0P36gvZj0",
     "timestamp": 1667952726076
    }
   ]
  },
  "kernelspec": {
   "display_name": "Python 3",
   "language": "python",
   "name": "python3"
  },
  "language_info": {
   "codemirror_mode": {
    "name": "ipython",
    "version": 3
   },
   "file_extension": ".py",
   "mimetype": "text/x-python",
   "name": "python",
   "nbconvert_exporter": "python",
   "pygments_lexer": "ipython3",
   "version": "3.7.6"
  }
 },
 "nbformat": 4,
 "nbformat_minor": 1
}
