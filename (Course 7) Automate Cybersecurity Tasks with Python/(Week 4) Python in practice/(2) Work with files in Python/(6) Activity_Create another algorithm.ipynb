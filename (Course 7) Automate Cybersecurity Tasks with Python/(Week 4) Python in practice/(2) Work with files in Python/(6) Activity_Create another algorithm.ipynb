{
 "cells": [
  {
   "cell_type": "markdown",
   "metadata": {
    "id": "4w9z0bsxsL4Y"
   },
   "source": [
    "# Activity: Create another algorithm"
   ]
  },
  {
   "cell_type": "markdown",
   "metadata": {
    "id": "ivt8p77hCKcO"
   },
   "source": [
    "## Introduction\n",
    "\n",
    "An important part of cybersecurity is controlling access to restricted content. In this lab, you'll work with a text file containing IP addresses that are allowed to access specific restricted content at your organization.\n",
    "\n",
    "Parsing a file allows security analysts to read and update the contents. Python helps analysts develop algorithms to automate the process of parsing files and keeping them up-to-date.\n",
    "\n",
    "You'll develop an algorithm that parses this text file of IP addresses and updates the file by removing the addresses that no longer have access to the restricted content."
   ]
  },
  {
   "cell_type": "markdown",
   "metadata": {
    "id": "eW4pA4LsC-vb"
   },
   "source": [
    "<details><summary><h2>Tips for completing this lab</h2></summary>\n",
    "\n",
    "As you navigate this lab, keep the following tips in mind:\n",
    "\n",
    "- `### YOUR CODE HERE ###` indicates where you should write code. Be sure to replace this with your own code before running the code cell.\n",
    "- Feel free to open the hints for additional guidance as you work on each task. \n",
    "- To enter your answer to a question, double-click the markdown cell to edit. Be sure to replace the \"[Double-click to enter your responses here.]\" with your own answer.\n",
    "- You can save your work manually by clicking File and then Save in the menu bar at the top of the notebook. \n",
    "- You can download your work locally by clicking File and then Download and then specifying your preferred file format in the menu bar at the top of the notebook. \n",
    "</details>"
   ]
  },
  {
   "cell_type": "markdown",
   "metadata": {
    "id": "dQ2elTOeCMNv"
   },
   "source": [
    "## Scenario\n",
    "\n",
    "In this lab, you're working as a security analyst and you're responsible for developing an algorithm that parses a file containing IP addresses that are allowed to access restricted content and removes addresses that no longer have access."
   ]
  },
  {
   "cell_type": "markdown",
   "metadata": {
    "id": "zo1HFh3XsS6S"
   },
   "source": [
    "## Task 1\n",
    "Your eventual goal is to develop an algorithm that parses a series of IP addresses that can access restricted information and removes the addresses that are no longer allowed. Python can automate this process.\n",
    "\n",
    "You're given a text file called `\"allow_list.txt\"` that contains a series of IP addresses that are allowed to access restricted information. \n",
    "\n",
    "There are IP addresses that should no longer have access to this information, and their IP addresses need to be removed from the text file. You're given a variable named `remove_list` that contains the list of IP addresses to be removed.\n",
    "\n",
    "Display both variables to explore their contents, and run the cell. Be sure to replace each `### YOUR CODE HERE ###` with your own code before running the following cell."
   ]
  },
  {
   "cell_type": "code",
   "execution_count": null,
   "metadata": {
    "id": "dxeblX9m2Lva"
   },
   "outputs": [],
   "source": [
    "# Assign `import_file` to the name of the file \n",
    "\n",
    "import_file = \"allow_list.txt\"\n",
    "\n",
    "# Assign `remove_list` to a list of IP addresses that are no longer allowed to access restricted information. \n",
    "\n",
    "remove_list = [\"192.168.97.225\", \"192.168.158.170\", \"192.168.201.40\", \"192.168.58.57\"]\n",
    "\n",
    "# Display `import_file`\n",
    "\n",
    "print(### YOUR CODE HERE ###)\n",
    "\n",
    "# Display `remove_list`\n",
    "\n",
    "print(### YOUR CODE HERE ###)"
   ]
  },
  {
   "cell_type": "markdown",
   "metadata": {
    "id": "N4iCk5h-BEW4"
   },
   "source": [
    "<details>\n",
    "  <summary><h4><strong>Hint 1</strong></h4></summary>\n",
    "\n",
    "To display the contents of a variable, pass it as an argument to the `print()` function.\n",
    "\n",
    "</details>"
   ]
  },
  {
   "cell_type": "markdown",
   "metadata": {
    "id": "F5C4y6A8jWPj"
   },
   "source": [
    "#### **Question 1**\n",
    "**What do you observe about the output above?**\n"
   ]
  },
  {
   "cell_type": "markdown",
   "metadata": {
    "id": "_v4mWtXSmkUX"
   },
   "source": [
    "[Double-click to enter your responses here.]"
   ]
  },
  {
   "cell_type": "markdown",
   "metadata": {
    "id": "z0N_eEcRpZQS"
   },
   "source": [
    "## Task 2\n",
    "In this task, start by opening the text file using the `import_file` variable, the `with` keyword, and the `open()` function with the `\"r\"` parameter. Be sure to replace the `### YOUR CODE HERE ###` with your own code.\n",
    "\n",
    "For now, you'll write the first line of the `with` statement. Running this code will produce an error because it will only contain the first line of the `with` statement; you'll complete this `with` statement in the task after this."
   ]
  },
  {
   "cell_type": "code",
   "execution_count": null,
   "metadata": {
    "id": "LPVPVJKC3j01"
   },
   "outputs": [],
   "source": [
    "# Assign `import_file` to the name of the file \n",
    "\n",
    "import_file = \"allow_list.txt\"\n",
    "\n",
    "# Assign `remove_list` to a list of IP addresses that are no longer allowed to access restricted information. \n",
    "\n",
    "remove_list = [\"192.168.97.225\", \"192.168.158.170\", \"192.168.201.40\", \"192.168.58.57\"]\n",
    "\n",
    "# First line of `with` statement\n",
    "\n",
    "with ### YOUR CODE HERE ### as file:"
   ]
  },
  {
   "cell_type": "markdown",
   "metadata": {
    "id": "vunjTntCnYSS"
   },
   "source": [
    "<details>\n",
    "  <summary><h4><strong>Hint 1</strong></h4></summary>\n",
    "\n",
    "The `open()` function in Python allows you to open a file. \n",
    "\n",
    "As the first parameter, it takes in the name of the file (or a variable containing the name of the file). As the second parameter, it takes in a string that indicates how the file should be handled.\n",
    "\n",
    "Pass in the letter `\"r\"` as the second parameter when you want to read the file.\n",
    "\n",
    "</details>"
   ]
  },
  {
   "cell_type": "markdown",
   "metadata": {
    "id": "0MpuZ_7Y3qHB"
   },
   "source": [
    "## Task 3\n",
    "Now, use the `.read()` method to read the imported file and store it in a variable named `ip_addresses`. \n",
    "\n",
    "Afterwards, display `ip_addresses` to examine the data in its current format. \n",
    "\n",
    "Be sure to replace each `### YOUR CODE HERE ###` with your own code before you run the following cell."
   ]
  },
  {
   "cell_type": "code",
   "execution_count": null,
   "metadata": {
    "id": "zvlBO9Eh5J4H"
   },
   "outputs": [],
   "source": [
    "# Assign `import_file` to the name of the file \n",
    "\n",
    "import_file = \"allow_list.txt\"\n",
    "\n",
    "# Assign `remove_list` to a list of IP addresses that are no longer allowed to access restricted information. \n",
    "\n",
    "remove_list = [\"192.168.97.225\", \"192.168.158.170\", \"192.168.201.40\", \"192.168.58.57\"]\n",
    "\n",
    "# Build `with` statement to read in the initial contents of the file\n",
    "\n",
    "with open(import_file, \"r\") as file:\n",
    "\n",
    "  # Use `.read()` to read the imported file and store it in a variable named `ip_addresses`\n",
    "\n",
    "  ### YOUR CODE HERE ###\n",
    "\n",
    "# Display `ip_addresses`\n",
    "\n",
    "print(### YOUR CODE HERE ###)"
   ]
  },
  {
   "cell_type": "markdown",
   "metadata": {
    "id": "fxll4f1K5lCm"
   },
   "source": [
    "<details>\n",
    "  <summary><h4><strong>Hint 1</strong></h4></summary>\n",
    "\n",
    "The `.read()` method in Python allows you to read in a file.\n",
    "\n",
    "</details>"
   ]
  },
  {
   "cell_type": "markdown",
   "metadata": {
    "id": "zU2SGDi_q8_v"
   },
   "source": [
    "<details>\n",
    "  <summary><h4><strong>Hint 2</strong></h4></summary>\n",
    "\n",
    "Call `file.read()` to read the imported file.\n",
    "\n",
    "</details>"
   ]
  },
  {
   "cell_type": "markdown",
   "metadata": {
    "id": "pqh-zmUh5-qi"
   },
   "source": [
    "<details>\n",
    "  <summary><h4><strong>Hint 3</strong></h4></summary>\n",
    "\n",
    "To display the contents of a variable, pass it as an argument to the `print()` function.\n",
    "\n",
    "</details>"
   ]
  },
  {
   "cell_type": "markdown",
   "metadata": {
    "id": "MrvKB19ltc6A"
   },
   "source": [
    "#### **Question 2**\n",
    "**Do you notice any IP addresses in the allow list that are also in the `remove_list`?**\n"
   ]
  },
  {
   "cell_type": "markdown",
   "metadata": {
    "id": "Tk1NmzVNuIa6"
   },
   "source": [
    "[Double-click to enter your responses here.]"
   ]
  },
  {
   "cell_type": "markdown",
   "metadata": {
    "id": "Iv06Y6Dv6CME"
   },
   "source": [
    "## Task 4\n",
    "After reading the file, reassign the `ip_addresses` variable so its data type is updated from a string to a list. Use the `.split()` method to achieve this. Adding this step will later allow you to remove individual IP addresses from the allow list.\n",
    "\n",
    "Afterwards, display the `ip_addresses` variable to verify that the update took place.\n",
    "\n",
    "Be sure to replace each `### YOUR CODE HERE ###` with your own code before you run the following cell."
   ]
  },
  {
   "cell_type": "code",
   "execution_count": null,
   "metadata": {
    "id": "HB-HMhEX8jzU"
   },
   "outputs": [],
   "source": [
    "# Assign `import_file` to the name of the file \n",
    "\n",
    "import_file = \"allow_list.txt\"\n",
    "\n",
    "# Assign `remove_list` to a list of IP addresses that are no longer allowed to access restricted information. \n",
    "\n",
    "remove_list = [\"192.168.97.225\", \"192.168.158.170\", \"192.168.201.40\", \"192.168.58.57\"]\n",
    "\n",
    "# Build `with` statement to read in the initial contents of the file\n",
    "\n",
    "with open(import_file, \"r\") as file:\n",
    "\n",
    "  # Use `.read()` to read the imported file and store it in a variable named `ip_addresses`\n",
    "\n",
    "    ip_addresses = file.read()\n",
    "\n",
    "# Use `.split()` to convert `ip_addresses` from a string to a list\n",
    "\n",
    "ip_addresses = ip_addresses.### YOUR CODE HERE ###\n",
    "\n",
    "# Display `ip_addresses`\n",
    "\n",
    "print(### YOUR CODE HERE ###)"
   ]
  },
  {
   "cell_type": "markdown",
   "metadata": {
    "id": "1tOgXngO82g8"
   },
   "source": [
    "<details>\n",
    "  <summary><h4><strong>Hint 1</strong></h4></summary>\n",
    "\n",
    "The `.split()` method in Python allows you to convert a string to a list. This method can take in a parameter that specifies which character to split on. If a parameter is not passed in, the method will split on whitespace by default. Note that whitespace includes any space between text on the same line and the space between one line and the next line.\n",
    "\n",
    "In this task, the default behavior of `.split()` works well. Each IP address is on a new line in the `allow_list.txt` file. In other words, there is whitespace between IP addresses in the text file. When you use `.split()`, it will separate the IP addresses and output them as a list.\n",
    "\n",
    "</details>"
   ]
  },
  {
   "cell_type": "markdown",
   "metadata": {
    "id": "zLtButSu82g9"
   },
   "source": [
    "<details>\n",
    "  <summary><h4><strong>Hint 2</strong></h4></summary>\n",
    "\n",
    "To display the contents of a variable, pass it as an argument to the `print()` function.\n",
    "\n",
    "</details>"
   ]
  },
  {
   "cell_type": "markdown",
   "metadata": {
    "id": "083QDEoV-6ZP"
   },
   "source": [
    "## Task 5\n",
    "Now, you'll write code that removes the elements of `remove_list` from the `ip_addresses` list. This will require using an iterative statement.\n",
    "\n",
    "First, build the iterative statement. Name the loop variable `element`, loop through `remove_list`, and display each element. Be sure to replace each `### YOUR CODE HERE ###` with your own code before you run the following cell.\n"
   ]
  },
  {
   "cell_type": "code",
   "execution_count": null,
   "metadata": {
    "id": "9Liw9LIH__TN"
   },
   "outputs": [],
   "source": [
    "# Assign `import_file` to the name of the file\n",
    "\n",
    "import_file = \"allow_list.txt\"\n",
    "\n",
    "# Assign `remove_list` to a list of IP addresses that are no longer allowed to access restricted information.\n",
    "\n",
    "remove_list = [\"192.168.97.225\", \"192.168.158.170\", \"192.168.201.40\", \"192.168.58.57\"]\n",
    "\n",
    "# Build `with` statement to read in the initial contents of the file\n",
    "\n",
    "with open(import_file, \"r\") as file:\n",
    "\n",
    "  # Use `.read()` to read the imported file and store it in a variable named `ip_addresses`\n",
    "\n",
    "    ip_addresses = file.read()\n",
    "\n",
    "# Use `.split()` to convert `ip_addresses` from a string to a list\n",
    "\n",
    "ip_addresses = ip_addresses.split()\n",
    "\n",
    "# Build iterative statement\n",
    "# Name loop variable `element`\n",
    "# Loop through `remove_list`\n",
    "\n",
    "### YOUR CODE HERE ###\n",
    "\n",
    "  # Display `element` in every iteration\n",
    "\n",
    "print(### YOUR CODE HERE ###)"
   ]
  },
  {
   "cell_type": "markdown",
   "metadata": {
    "id": "yEtm97lVAFPl"
   },
   "source": [
    "<details>\n",
    "  <summary><h4><strong>Hint 1</strong></h4></summary>\n",
    "\n",
    "Build a `for` loop to iterate through `remove_list`. Be sure to start with the `for` keyword. Use `element` as the loop variable and use `in` as the loop condition.\n",
    "\n",
    "</details>"
   ]
  },
  {
   "cell_type": "markdown",
   "metadata": {
    "id": "hLGVwvuGAFPm"
   },
   "source": [
    "<details>\n",
    "  <summary><h4><strong>Hint 2</strong></h4></summary>\n",
    "\n",
    "To display the contents of a variable, pass it as an argument to the `print()` function.\n",
    "\n",
    "</details>"
   ]
  },
  {
   "cell_type": "markdown",
   "metadata": {
    "id": "BJ1SEHvrCHP5"
   },
   "source": [
    "## Task 6\n",
    "Now, in the body of the iterative statement, apply the `.remove()` method to the `ip_addresses` list and remove the IP addresses identified in the loop variable `element`.\n",
    "\n",
    "After the iterative statement removes  the elements, display the updated `ip_addresses` list to verify that the elements of `remove_list` are no longer in the `ip_addresses`. Be sure to replace each `### YOUR CODE HERE ###` with your own code before you run the following cell.\n",
    "\n",
    "**Note:** Two qualities of the lists that make applying the `.remove()` method possible. First, all of the elements in `remove_list` are also in the `ip_addresses` list. If this wasn't the case, applying the `.remove()` method to these elements would result in an error. Second, there are not any duplicate values in the `ip_addresses` list. The `.remove()` method only removes the first occurrence of an element, so if there were duplicates, they would not be removed."
   ]
  },
  {
   "cell_type": "code",
   "execution_count": null,
   "metadata": {
    "id": "hINEYp9pEZuy"
   },
   "outputs": [],
   "source": [
    "# Assign `import_file` to the name of the file\n",
    "\n",
    "import_file = \"allow_list.txt\"\n",
    "\n",
    "# Assign `remove_list` to a list of IP addresses that are no longer allowed to access restricted information.\n",
    "\n",
    "remove_list = [\"192.168.97.225\", \"192.168.158.170\", \"192.168.201.40\", \"192.168.58.57\"]\n",
    "\n",
    "# Build `with` statement to read in the initial contents of the file\n",
    "\n",
    "with open(import_file, \"r\") as file:\n",
    "\n",
    "  # Use `.read()` to read the imported file and store it in a variable named `ip_addresses`\n",
    "\n",
    "    ip_addresses = file.read()\n",
    "\n",
    "# Use `.split()` to convert `ip_addresses` from a string to a list\n",
    "\n",
    "ip_addresses = ip_addresses.split()\n",
    "\n",
    "# Build iterative statement\n",
    "# Name loop variable `element`\n",
    "# Loop through `remove_list`\n",
    "\n",
    "for element in remove_list:\n",
    "\n",
    "  # use the `.remove()` method to remove\n",
    "  # elements from `ip_addresses`\n",
    "\n",
    "  ### YOUR CODE HERE ###\n",
    "\n",
    "# Display `ip_addresses`\n",
    "\n",
    "print(ip_addresses)"
   ]
  },
  {
   "cell_type": "markdown",
   "metadata": {
    "id": "NDPkfbp3FYBZ"
   },
   "source": [
    "<details>\n",
    "  <summary><h4><strong>Hint 1</strong></h4></summary>\n",
    "\n",
    "To remove `element` from `ip_addresses`, call the `.remove()` method on `ip_addresses`, and pass in `element`.\n",
    "\n",
    "</details>"
   ]
  },
  {
   "cell_type": "markdown",
   "metadata": {
    "id": "r8_PSeXMF7O2"
   },
   "source": [
    "<details>\n",
    "  <summary><h4><strong>Hint 2</strong></h4></summary>\n",
    "\n",
    "To remove `element` from `ip_addresses`, call `ip_addresses.remove()` and pass in `element`.\n",
    "\n",
    "</details>"
   ]
  },
  {
   "cell_type": "markdown",
   "metadata": {
    "id": "Y6tImjeD3h6L"
   },
   "source": [
    "## Task 7\n",
    "The next step is to update the original file that was used to create the `ip_addresses` list. A line of code containing the `.join()` method has been added to the code so that the file can be updated. This is necessary because `ip_addresses` must be in string format when used inside the `with` statement to rewrite the file.\n",
    "\n",
    "The `.join()` method takes in an iterable (such as a list) and concatenates every element of it into a string. The `.join()` method is applied to a string consisting of the character that will be used to separate every element in the iterable once its converted into a string. In the code below, the method is applied to the string `\" \"`, which contains just a space character. The argument of the `.join()` method is the iterable you want to convert, and in this case, that's `ip_addresses`. As a result, it converts `ip_addresses` from a list back into a string with a space between each element and the next.\n",
    "\n",
    "After this line with the `.join()` method, build the `with` statement that rewrites the original file. Use the `\"w\"` parameter when calling the `open()` function to delete the contents in the original file and replace it with what you want to write. Be sure to replace each `### YOUR CODE HERE ###` with your own code before you run the following cell. This code cell will not produce an output."
   ]
  },
  {
   "cell_type": "code",
   "execution_count": null,
   "metadata": {
    "id": "kuCDsf-AHHLL"
   },
   "outputs": [],
   "source": [
    "# Assign `import_file` to the name of the file\n",
    "\n",
    "import_file = \"allow_list.txt\"\n",
    "\n",
    "# Assign `remove_list` to a list of IP addresses that are no longer allowed to access restricted information.\n",
    "\n",
    "remove_list = [\"192.168.97.225\", \"192.168.158.170\", \"192.168.201.40\", \"192.168.58.57\"]\n",
    "\n",
    "# Build `with` statement to read in the initial contents of the file\n",
    "\n",
    "with open(import_file, \"r\") as file:\n",
    "\n",
    "  # Use `.read()` to read the imported file and store it in a variable named `ip_addresses`\n",
    "\n",
    "    ip_addresses = file.read()\n",
    "\n",
    "# Use `.split()` to convert `ip_addresses` from a string to a list\n",
    "\n",
    "ip_addresses = ip_addresses.split()\n",
    "\n",
    "# Build iterative statement\n",
    "# Name loop variable `element`\n",
    "# Loop through `remove_list`\n",
    "\n",
    "for element in remove_list:\n",
    "\n",
    "  # use the `.remove()` method to remove\n",
    "  # elements from `ip_addresses`\n",
    "\n",
    "    ip_addresses.remove(element)\n",
    "\n",
    "# Convert `ip_addresses` back to a string so that it can be written into the text file\n",
    "\n",
    "ip_addresses = \" \".join(ip_addresses)\n",
    "\n",
    "# Build `with` statement to rewrite the original file\n",
    "\n",
    "with ### YOUR CODE HERE ###:\n",
    "\n",
    "  # Rewrite the file, replacing its contents with `ip_addresses`\n",
    "\n",
    "  ### YOUR CODE HERE ###"
   ]
  },
  {
   "cell_type": "markdown",
   "metadata": {
    "id": "XcVVj9ikHO_9"
   },
   "source": [
    "<details>\n",
    "  <summary><h4><strong>Hint 1</strong></h4></summary>\n",
    "\n",
    "To complete the first line of the `with` statement, call the `open()` function and pass in the name of the file as the first parameter and the letter `\"w\"` as the second parameter. \n",
    "\n",
    "The `\"w\"` parameter specifies that you're opening the file for the purpose of writing to it. \n",
    "\n",
    "</details>"
   ]
  },
  {
   "cell_type": "markdown",
   "metadata": {
    "id": "fC8HQty-HO_-"
   },
   "source": [
    "<details>\n",
    "  <summary><h4><strong>Hint 2</strong></h4></summary>\n",
    "\n",
    "Inside the `with` statement, call the `.write()` method to replace the contents of the file with the data stored in `ip_addresses`.\n",
    "\n",
    "</details>"
   ]
  },
  {
   "cell_type": "markdown",
   "metadata": {
    "id": "3t12UIDSHO_-"
   },
   "source": [
    "<details>\n",
    "  <summary><h4><strong>Hint 3</strong></h4></summary>\n",
    "\n",
    "Inside the `with` statement, call `file.write()` and pass in `ip_addresses`.\n",
    "\n",
    "</details>"
   ]
  },
  {
   "cell_type": "markdown",
   "metadata": {
    "id": "MPeELiLnJNMI"
   },
   "source": [
    "## Task 8\n",
    "In this task, you'll verify that the original file was rewritten using the correct list. \n",
    "\n",
    "Write another `with` statement, this time to read in the updated file. Start by opening the file. Then read the file and store its contents in the `text` variable. \n",
    "\n",
    "Afterwards, display the `text` variable to examine the result.\n",
    "\n",
    "Be sure to replace each `### YOUR CODE HERE ###` with your own code before you run the following cell.\n",
    "\n",
    "**Note:** Two qualities of the lists that make applying the `.remove()` method possible. First, all of the elements in `remove_list` are also in the `ip_addresses` list. If this wasn't the case, applying the `.remove()` method to these elements would result in an error. Second, there are not any duplicate values in the `ip_addresses` list. The `.remove()` method only removes the first occurrence of an element, so if there were duplicates, they would not be removed."
   ]
  },
  {
   "cell_type": "code",
   "execution_count": null,
   "metadata": {
    "id": "s0dlsfrPKd_q"
   },
   "outputs": [],
   "source": [
    "# Assign `import_file` to the name of the file\n",
    "\n",
    "import_file = \"allow_list.txt\"\n",
    "\n",
    "# Assign `remove_list` to a list of IP addresses that are no longer allowed to access restricted information.\n",
    "\n",
    "remove_list = [\"192.168.97.225\", \"192.168.158.170\", \"192.168.201.40\", \"192.168.58.57\"]\n",
    "\n",
    "# Build `with` statement to read in the initial contents of the file\n",
    "\n",
    "with open(import_file, \"r\") as file:\n",
    "\n",
    "  # Use `.read()` to read the imported file and store it in a variable named `ip_addresses`\n",
    "\n",
    "  ip_addresses = file.read()\n",
    "\n",
    "# Use `.split()` to convert `ip_addresses` from a string to a list\n",
    "\n",
    "ip_addresses = ip_addresses.split()\n",
    "\n",
    "# Build iterative statement\n",
    "# Name loop variable `element`\n",
    "# Loop through `remove_list`\n",
    "\n",
    "for element in remove_list:\n",
    "\n",
    "  # use the `.remove()` method to remove\n",
    "  # elements from `ip_addresses`\n",
    "\n",
    "    ip_addresses.remove(element)\n",
    "\n",
    "# Convert `ip_addresses` back to a string so that it can be written into the text file\n",
    "\n",
    "ip_addresses = \" \".join(ip_addresses)\n",
    "\n",
    "# Build `with` statement to rewrite the original file\n",
    "\n",
    "with open(import_file, \"w\") as file:\n",
    "\n",
    "  # Rewrite the file, replacing its contents with `ip_addresses`\n",
    "\n",
    "  file.write(ip_addresses)\n",
    "\n",
    "# Build `with` statement to read in the updated file\n",
    "\n",
    "with ### YOUR CODE HERE ### as file:\n",
    "\n",
    "  # Read in the updated file and store the contents in `text`\n",
    "\n",
    "    text = ### YOUR CODE HERE ###\n",
    "\n",
    "# Display the contents of `text`\n",
    "\n",
    "print(### YOUR CODE HERE ###)"
   ]
  },
  {
   "cell_type": "markdown",
   "metadata": {
    "id": "gy2Q1UkUKmRz"
   },
   "source": [
    "<details>\n",
    "  <summary><h4><strong>Hint 1</strong></h4></summary>\n",
    "\n",
    "To complete the first line of the `with` statement, call the `open()` function and pass in the name of the file as the first parameter and the letter `\"r\"` as the second parameter. \n",
    "\n",
    "The `\"r\"` parameter specifies that you're opening the file for the purpose of reading it. \n",
    "\n",
    "</details>"
   ]
  },
  {
   "cell_type": "markdown",
   "metadata": {
    "id": "tAXScw4mKmRz"
   },
   "source": [
    "<details>\n",
    "  <summary><h4><strong>Hint 2</strong></h4></summary>\n",
    "\n",
    "Inside the `with` statement, call the `.read()` method to read the contents of the file. Assign the `text` variable to the result. \n",
    "\n",
    "</details>"
   ]
  },
  {
   "cell_type": "markdown",
   "metadata": {
    "id": "0tZZIM12K7rg"
   },
   "source": [
    "<details>\n",
    "  <summary><h4><strong>Hint 3</strong></h4></summary>\n",
    "\n",
    "To display the contents of a variable, pass it as an argument to the `print()` function.\n",
    "\n",
    "</details>"
   ]
  },
  {
   "cell_type": "markdown",
   "metadata": {
    "id": "R1WDqLt_K9U7"
   },
   "source": [
    "## Task 9\n",
    "The next step is to bring all of the code you've written leading up to this point and put it all into one function. \n",
    "\n",
    "Define a function named `update_file()` that takes in two parameters. The first parameter is the name of the text file that contains IP addresses (call this parameter `import_file`). The second parameter is a list that contains IP addresses to be removed (call this parameter `remove_list`).\n",
    "\n",
    "Be sure to replace the `### YOUR CODE HERE ###` with your own code before you run the following cell. Note that this code cell will not produce an output.\n",
    "\n"
   ]
  },
  {
   "cell_type": "code",
   "execution_count": null,
   "metadata": {
    "id": "rmoz_SD4NBbj"
   },
   "outputs": [],
   "source": [
    "# Define a function named `update_file` that takes in two parameters: `import_file` and `remove_list`\n",
    "# and combines the steps you've written in this lab leading up to this\n",
    "\n",
    "def ### YOUR CODE HERE ###\n",
    "\n",
    "  # Build `with` statement to read in the initial contents of the file\n",
    "\n",
    "    with open(import_file, \"r\") as file:\n",
    "\n",
    "    # Use `.read()` to read the imported file and store it in a variable named `ip_addresses`\n",
    "\n",
    "        ip_addresses = file.read()\n",
    "\n",
    "  # Use `.split()` to convert `ip_addresses` from a string to a list\n",
    "\n",
    "    ip_addresses = ip_addresses.split()\n",
    "\n",
    "  # Build iterative statement\n",
    "  # Name loop variable `element`\n",
    "  # Loop through `remove_list`\n",
    "\n",
    "    for element in remove_list:\n",
    "\n",
    "    # use the `.remove()` method to remove\n",
    "    # elements from `ip_addresses`\n",
    "\n",
    "        ip_addresses.remove(element)\n",
    "\n",
    "  # Convert `ip_addresses` back to a string so that it can be written into the text file\n",
    "\n",
    "    ip_addresses = \" \".join(ip_addresses)\n",
    "\n",
    "  # Build `with` statement to rewrite the original file\n",
    "\n",
    "    with open(import_file, \"w\") as file:\n",
    "\n",
    "    # Rewrite the file, replacing its contents with `ip_addresses`\n",
    "\n",
    "        file.write(ip_addresses)"
   ]
  },
  {
   "cell_type": "markdown",
   "metadata": {
    "id": "3VpUpR6Zey9V"
   },
   "source": [
    "<details>\n",
    "  <summary><h4><strong>Hint 1</strong></h4></summary>\n",
    "\n",
    "Use the `def` keyword to start the function definition. \n",
    "\n",
    "</details>"
   ]
  },
  {
   "cell_type": "markdown",
   "metadata": {
    "id": "uoGt3HqQey9f"
   },
   "source": [
    "<details>\n",
    "  <summary><h4><strong>Hint 2</strong></h4></summary>\n",
    "\n",
    "After the `def` keyword, specify the name of the function, followed by parantheses and a colon. Inside the parantheses, specify the parameters that the function takes in.\n",
    "\n",
    "</details>"
   ]
  },
  {
   "cell_type": "markdown",
   "metadata": {
    "id": "WxLVS38vhOxi"
   },
   "source": [
    "<details>\n",
    "  <summary><h4><strong>Hint 3</strong></h4></summary>\n",
    "\n",
    "After the `def` keyword, write `update_file(import_file, remove_list):` to complete the function definition header.\n",
    "\n",
    "</details>"
   ]
  },
  {
   "cell_type": "markdown",
   "metadata": {
    "id": "cD0hgjRLuS98"
   },
   "source": [
    "#### **Question 3**\n",
    "**What are the benefits of incorporating the algorithm into a single function?**"
   ]
  },
  {
   "cell_type": "markdown",
   "metadata": {
    "id": "Y5UWYLeDvPXh"
   },
   "source": [
    "[Double-click to enter your responses here.]"
   ]
  },
  {
   "cell_type": "markdown",
   "metadata": {
    "id": "WM9ON3JkxcOL"
   },
   "source": [
    "## Task 10\n",
    "Finally, call the `update_file()` that you defined. Apply the function to `\"allow_list.txt\"` and pass in a list of IP addresses as the second argument.\n",
    "\n",
    "Use the following list of IP addresses as the second argument: \n",
    "\n",
    "`[\"192.168.25.60\", \"192.168.90.124\", \"192.168.60.153\"]`\n",
    "\n",
    "After the function call, use a `with` statement to read the contents of the allow list. Then display the contents of the allow list. Run it to verify that the file has been updated by the function.\n",
    "\n",
    "Be sure to replace the `### YOUR CODE HERE ###` with your own code before you run the following cell.\n",
    "\n",
    "**Note:** Two qualities of the lists that make applying the `.remove()` method possible. First, all of the elements in `remove_list` are also in the `ip_addresses` list. If this wasn't the case, applying the `.remove()` method to these elements would result in an error. Second, there are not any duplicate values in the `ip_addresses` list. The `.remove()` method only removes the first occurrence of an element, so if there were duplicates, they would not be removed."
   ]
  },
  {
   "cell_type": "code",
   "execution_count": null,
   "metadata": {
    "id": "YO87XukHRSC1"
   },
   "outputs": [],
   "source": [
    "# Define a function named `update_file` that takes in two parameters: `import_file` and `remove_list`\n",
    "# and combines the steps you've written in this lab leading up to this\n",
    "\n",
    "def update_file(import_file, remove_list):\n",
    "\n",
    "  # Build `with` statement to read in the initial contents of the file\n",
    "\n",
    "    with open(import_file, \"r\") as file:\n",
    "\n",
    "    # Use `.read()` to read the imported file and store it in a variable named `ip_addresses`\n",
    "\n",
    "        ip_addresses = file.read()\n",
    "\n",
    "  # Use `.split()` to convert `ip_addresses` from a string to a list\n",
    "\n",
    "    ip_addresses = ip_addresses.split()\n",
    "\n",
    "  # Build iterative statement\n",
    "  # Name loop variable `element`\n",
    "  # Loop through `remove_list`\n",
    "\n",
    "    for element in remove_list:\n",
    "\n",
    "    # use the `.remove()` method to remove\n",
    "    # elements from `ip_addresses`\n",
    "\n",
    "        ip_addresses.remove(element)\n",
    "\n",
    "  # Convert `ip_addresses` back to a string so that it can be written into the text file\n",
    "\n",
    "    ip_addresses = \" \".join(ip_addresses)\n",
    "\n",
    "  # Build `with` statement to rewrite the original file\n",
    "\n",
    "    with open(import_file, \"w\") as file:\n",
    "\n",
    "    # Rewrite the file, replacing its contents with `ip_addresses`\n",
    "\n",
    "        file.write(ip_addresses)\n",
    "\n",
    "# Call `update_file()` and pass in \"allow_list.txt\" and a list of IP addresses to be removed\n",
    "\n",
    "update_file### YOUR CODE HERE ###\n",
    "\n",
    "# Build `with` statement to read in the updated file\n",
    "\n",
    "with open(\"allow_list.txt\", \"r\") as file:\n",
    "\n",
    "  # Read in the updated file and store the contents in `text`\n",
    "\n",
    "    text = ### YOUR CODE HERE ###\n",
    "\n",
    "# Display the contents of `text`\n",
    "\n",
    "print(### YOUR CODE HERE ###)"
   ]
  },
  {
   "cell_type": "markdown",
   "metadata": {
    "id": "UoVsVe37RkfT"
   },
   "source": [
    "<details>\n",
    "  <summary><h4><strong>Hint 1</strong></h4></summary>\n",
    "\n",
    "To call the `update_file()` function, write the name of the function, followed by parantheses, and pass in the file name and list of IP addresses that you want to try out the function on. Be sure to separate the two arguments with a comma (`,`). \n",
    "\n",
    "</details>"
   ]
  },
  {
   "cell_type": "markdown",
   "metadata": {
    "id": "CFB8ClVxRkfU"
   },
   "source": [
    "<details>\n",
    "  <summary><h4><strong>Hint 2</strong></h4></summary>\n",
    "\n",
    "Inside the `with` statement, call the `.read()` method to read the contents of the file. Assign the `text` variable to the result. \n",
    "\n",
    "</details>"
   ]
  },
  {
   "cell_type": "markdown",
   "metadata": {
    "id": "pPpQTn_uRkfU"
   },
   "source": [
    "<details>\n",
    "  <summary><h4><strong>Hint 3</strong></h4></summary>\n",
    "\n",
    "To display the contents of the `text` variable, pass it as an argument to the `print()` function.\n",
    "\n",
    "</details>"
   ]
  },
  {
   "cell_type": "markdown",
   "metadata": {
    "id": "ru2ytGBLCh4q"
   },
   "source": [
    "## Conclusion\n",
    "\n",
    "**What are your key takeaways from this lab?**"
   ]
  },
  {
   "cell_type": "markdown",
   "metadata": {
    "id": "ls2WEGqsiSAd"
   },
   "source": [
    "[Double-click to enter your responses here.]"
   ]
  }
 ],
 "metadata": {
  "colab": {
   "provenance": [],
   "toc_visible": true
  },
  "kernelspec": {
   "display_name": "Python 3",
   "language": "python",
   "name": "python3"
  },
  "language_info": {
   "codemirror_mode": {
    "name": "ipython",
    "version": 3
   },
   "file_extension": ".py",
   "mimetype": "text/x-python",
   "name": "python",
   "nbconvert_exporter": "python",
   "pygments_lexer": "ipython3",
   "version": "3.7.6"
  }
 },
 "nbformat": 4,
 "nbformat_minor": 1
}
