{
 "cells": [
  {
   "cell_type": "markdown",
   "metadata": {
    "id": "FpdoHsRVBxVN"
   },
   "source": [
    "# Activity: Develop an algorithm"
   ]
  },
  {
   "cell_type": "markdown",
   "metadata": {
    "id": "KxK7oitJd3wz"
   },
   "source": [
    "## Introduction\n",
    "\n",
    "An algorithm is a set of steps that can be used to solve a problem. Security analysts develop algorithms to provide the solutions that they need for their work. For example, an analyst may work with users who bring them devices. The analyst may need an algorithm that first checks if a user is approved to access the system and then checks if the device that they have brought is the one assigned to them.\n",
    "\n",
    "In this lab, you'll develop an algorithm in Python that automates this process."
   ]
  },
  {
   "cell_type": "markdown",
   "metadata": {
    "id": "eW4pA4LsC-vb"
   },
   "source": [
    "<details><summary><h2>Tips for completing this lab</h2></summary>\n",
    "\n",
    "As you navigate this lab, keep the following tips in mind:\n",
    "\n",
    "- `### YOUR CODE HERE ###` indicates where you should write code. Be sure to replace this with your own code before running the code cell.\n",
    "- Feel free to open the hints for additional guidance as you work on each task.\n",
    "- To enter your answer to a question, double-click the markdown cell to edit. Be sure to replace the \"[Double-click to enter your responses here.]\" with your own answer.\n",
    "- You can save your work manually by clicking File and then Save in the menu bar at the top of the notebook.\n",
    "- You can download your work locally by clicking File and then Download and then specifying your preferred file format in the menu bar at the top of the notebook.\n",
    "</details>"
   ]
  },
  {
   "cell_type": "markdown",
   "metadata": {
    "id": "-btSB292gVHU"
   },
   "source": [
    "## Scenario\n",
    "\n",
    "In this lab, you're working as a security analyst and you're responsible for developing an algorithm that connects users to their assigned devices. You'll write code that indicates if a user is approved on the system and has brought their assigned device to the security team.\n"
   ]
  },
  {
   "cell_type": "markdown",
   "metadata": {
    "id": "-KY1VeP9CfM-"
   },
   "source": [
    "## Task 1\n",
    "You'll work with a list of approved usernames along with a list of the approved devices assigned to these users. The elements of the two lists are synchronized. In other words, the user at index 0 in `approved_users` uses the device at index 0 in `approved_devices`. Later, this will allow you to verify if the username and device ID entered by a user correspond to each other.\n",
    "\n",
    "First, to explore how indices in lists work, run the following code cell as is and observe the output. Then, replace each `0` with another index and run the cell to observe what happens."
   ]
  },
  {
   "cell_type": "code",
   "execution_count": null,
   "metadata": {
    "id": "Cwvk-6Wn_DWo"
   },
   "outputs": [],
   "source": [
    "# Assign `approved_users` to a list of approved usernames\n",
    "\n",
    "approved_users = [\"elarson\", \"bmoreno\", \"tshah\", \"sgilmore\", \"eraab\"]\n",
    "\n",
    "# Assign `approved_devices` to a list of device IDs that correspond to the usernames in `approved_users`\n",
    "\n",
    "approved_devices = [\"8rp2k75\", \"hl0s5o1\", \"2ye3lzg\", \"4n482ts\", \"a307vir\"]\n",
    "\n",
    "# Display the element at the specified index in `approved_users`\n",
    "\n",
    "print(approved_users[0])\n",
    "\n",
    "# Display the element at the specified index in `approved_devices`\n",
    "\n",
    "print(approved_devices[0])\n"
   ]
  },
  {
   "cell_type": "markdown",
   "metadata": {
    "id": "wrx99R-XL8ZH"
   },
   "source": [
    "#### **Question 1**\n",
    "**What did you observe about the output when `approved_users[0]` is displayed and when `approved_devices[0]` is displayed? What happens when you replace each `0` with another index?**\n"
   ]
  },
  {
   "cell_type": "markdown",
   "metadata": {
    "id": "L0rNcJs4-q-Q"
   },
   "source": [
    "[Double-click to enter your responses here.]"
   ]
  },
  {
   "cell_type": "markdown",
   "metadata": {
    "id": "OE_fiWN4OjWJ"
   },
   "source": [
    "## Task 2\n",
    "There's a new employee joining the organization, and they need to be provided with a username and device ID. In the following code cell, you are given a username and device ID of this new user, stored in the variables `new_user` and `new_device`, respectively. Use the `.append()` method to add these variables to the `approved_users` and `approved_devices` respectively. Afterwards, display the `approved_users` and `approved_devices` variables to confirm the added information. Be sure to replace each `### YOUR CODE HERE ###` with your own code before you run the following cell."
   ]
  },
  {
   "cell_type": "code",
   "execution_count": null,
   "metadata": {
    "id": "DqMW7dHBUffd"
   },
   "outputs": [],
   "source": [
    "# Assign `approved_users` to a list of approved usernames\n",
    "\n",
    "approved_users = [\"elarson\", \"bmoreno\", \"tshah\", \"sgilmore\", \"eraab\"]\n",
    "\n",
    "# Assign `approved_devices` to a list of device IDs that correspond to the usernames in `approved_users`\n",
    "\n",
    "approved_devices = [\"8rp2k75\", \"hl0s5o1\", \"2ye3lzg\", \"4n482ts\", \"a307vir\"]\n",
    "\n",
    "# Assign `new_user` to the username of a new approved user\n",
    "\n",
    "new_user = \"gesparza\"\n",
    "\n",
    "# Assign `new_device` to the device ID of the new approved user\n",
    "\n",
    "new_device = \"3rcv4w6\"\n",
    "\n",
    "# Add that user's username and device ID to `approved_users` and `approved_devices` respectively\n",
    "\n",
    "### YOUR CODE HERE ###\n",
    "### YOUR CODE HERE ###\n",
    "\n",
    "# Display the contents of `approved_users`\n",
    "\n",
    "print### YOUR CODE HERE ###\n",
    "\n",
    "# Diplay the contents of `approved_devices`\n",
    "\n",
    "print### YOUR CODE HERE ###\n"
   ]
  },
  {
   "cell_type": "markdown",
   "metadata": {
    "id": "N4iCk5h-BEW4"
   },
   "source": [
    "<details>\n",
    "  <summary><h4><strong>Hint 1</strong></h4></summary>\n",
    "\n",
    "Use the `.append()` method to add `new_user` to `approved_users`.\n",
    "\n",
    "Use the `.append()` method to add `new_device` to `approved_devices`.\n",
    "\n",
    "</details>"
   ]
  },
  {
   "cell_type": "markdown",
   "metadata": {
    "id": "9BwgLKQGAozi"
   },
   "source": [
    "<details>\n",
    "  <summary><h4><strong>Hint 2</strong></h4></summary>\n",
    "\n",
    "Use the `print()` function to display the contents of `approved_users`.\n",
    "\n",
    "Use the `print()` function to display the contents of `approved_devices`.\n",
    "\n",
    "</details>"
   ]
  },
  {
   "cell_type": "markdown",
   "metadata": {
    "id": "2UVf8du_CdfW"
   },
   "source": [
    "#### **Question 2**\n",
    "**After the new approved user is added, what did you observe about the output when `approved_users` is displayed and when `approved_devices` is displayed?**\n"
   ]
  },
  {
   "cell_type": "markdown",
   "metadata": {
    "id": "APOgX6RbCdff"
   },
   "source": [
    "[Double-click to enter your responses here.]"
   ]
  },
  {
   "cell_type": "markdown",
   "metadata": {
    "id": "nDgdKRQ5TzdV"
   },
   "source": [
    "## Task 3\n",
    "An employee has left the team and should no longer have access to the system. In the following code cell, you are given the username and device ID of the user to be removed, stored in the variables `removed_user` and `removed_device` respectively.  Use the `.remove()` method to remove each of these elements from the corresponding list. Afterwards, display both the `approved_users` and the `approved_devices` variables to view the removed users. Run the code and observe the results. Be sure to replace each `### YOUR CODE HERE ###` with your own code before you run the following cell.\n"
   ]
  },
  {
   "cell_type": "code",
   "execution_count": null,
   "metadata": {
    "id": "2oPgNiC0hT_T"
   },
   "outputs": [],
   "source": [
    "# Assign `approved_users` to a list of approved usernames\n",
    "\n",
    "approved_users = [\"elarson\", \"bmoreno\", \"tshah\", \"sgilmore\", \"eraab\", \"gesparza\"]\n",
    "\n",
    "# Assign `approved_devices` to a list of device IDs that correspond to the usernames in `approved_users`\n",
    "\n",
    "approved_devices = [\"8rp2k75\", \"hl0s5o1\", \"2ye3lzg\", \"4n482ts\", \"a307vir\", \"3rcv4w6\"]\n",
    "\n",
    "# Assign `removed_user` to the username of the employee who has left the team\n",
    "\n",
    "removed_user = \"tshah\"\n",
    "\n",
    "# Assign `removed_device` to the device ID of the employee who has left the team\n",
    "\n",
    "removed_device = \"2ye3lzg\"\n",
    "\n",
    "# Remove that employee's username and device ID from `approved_users` and `approved_devices` respectively\n",
    "\n",
    "### YOUR CODE HERE ###\n",
    "### YOUR CODE HERE ###\n",
    "\n",
    "# Display `approved_users`\n",
    "\n",
    "print### YOUR CODE HERE ###\n",
    "\n",
    "# Diplay `approved_devices`\n",
    "\n",
    "print### YOUR CODE HERE ###\n"
   ]
  },
  {
   "cell_type": "markdown",
   "metadata": {
    "id": "mDptIupjDzkZ"
   },
   "source": [
    "<details>\n",
    "  <summary><h4><strong>Hint 1</strong></h4></summary>\n",
    "\n",
    "Use the `.remove()` method to remove `removed_user` from `approved_users`.\n",
    "\n",
    "Use the `.remove()` method to remove `removed_device` from `approved_devices`.\n",
    "\n",
    "</details>"
   ]
  },
  {
   "cell_type": "markdown",
   "metadata": {
    "id": "cnTrQyxLpJh-"
   },
   "source": [
    "<details>\n",
    "  <summary><h4><strong>Hint 2</strong></h4></summary>\n",
    "\n",
    "Use the `print()` function to display the contents of `approved_users`.\n",
    "\n",
    "Use the `print()` function to display the contents of `approved_devices`.\n",
    "\n",
    "</details>"
   ]
  },
  {
   "cell_type": "markdown",
   "metadata": {
    "id": "0rePIFfpFgJL"
   },
   "source": [
    "#### **Question 3**\n",
    "**After the user who left the team is removed, what did you observe about the output when `approved_users` is displayed and when `approved_devices` is displayed?**\n"
   ]
  },
  {
   "cell_type": "markdown",
   "metadata": {
    "id": "rAeGIEexFgJU"
   },
   "source": [
    "[Double-click to enter your responses here.]"
   ]
  },
  {
   "cell_type": "markdown",
   "metadata": {
    "id": "aLiBPEERhxdC"
   },
   "source": [
    "## Task 4\n",
    "\n",
    "As part of verifying a user's identity in the system, you'll need to check if the user is one of the approved users. Write a conditional statement that verifies if a given username is an element of the list of approved usernames. If it is, display `\"The user ______ is approved to access the system.\"`. Otherwise, display `\"The user ______ is not approved to access the system.\"`. Be sure to replace each `### YOUR CODE HERE ###` with your own code before you run the following cell."
   ]
  },
  {
   "cell_type": "code",
   "execution_count": null,
   "metadata": {
    "id": "ybZt-6n0lWNV"
   },
   "outputs": [],
   "source": [
    "# Assign `approved_users` to a list of approved usernames\n",
    "\n",
    "approved_users = [\"elarson\", \"bmoreno\", \"sgilmore\", \"eraab\", \"gesparza\"]\n",
    "\n",
    "# Assign `approved_devices` to a list of device IDs that correspond to the usernames in `approved_users`\n",
    "\n",
    "approved_devices = [\"8rp2k75\", \"hl0s5o1\", \"4n482ts\", \"a307vir\", \"3rcv4w6\"]\n",
    "\n",
    "# Assign `username` to a username\n",
    "\n",
    "username = \"sgilmore\"\n",
    "\n",
    "# Conditional statement\n",
    "# If `username` belongs to `approved_users`, then display \"The user ______ is approved to access the system.\"\n",
    "# Otherwise display \"The user ______ is not approved to access the system.\"\n",
    "if ### YOUR CODE HERE ### in approved_users:\n",
    "    print(\"The username\", username, \"is approved to access the system.\")\n",
    "### YOUR CODE HERE ###\n",
    "    ### YOUR CODE HERE ###\n",
    "    "
   ]
  },
  {
   "cell_type": "markdown",
   "metadata": {
    "id": "cfY5l5xbGL9E"
   },
   "source": [
    "<details>\n",
    "  <summary><h4><strong>Hint 1</strong></h4></summary>\n",
    "\n",
    "In the `if` condition, be sure to check if `username` belongs to `approved_users`.\n",
    "\n",
    "</details>"
   ]
  },
  {
   "cell_type": "markdown",
   "metadata": {
    "id": "4AsCC1gRGiUT"
   },
   "source": [
    "<details>\n",
    "  <summary><h4><strong>Hint 2</strong></h4></summary>\n",
    "\n",
    "After the `if` statement, use the `else` keyword to create an `else` statement that handles the case when `username` is not part of the `approved_users`.\n",
    "\n",
    "</details>"
   ]
  },
  {
   "cell_type": "markdown",
   "metadata": {
    "id": "hQv4GCcWGv2o"
   },
   "source": [
    "<details>\n",
    "  <summary><h4><strong>Hint 3</strong></h4></summary>\n",
    "\n",
    "Inside the `else` statement, use the `print()` function to display the message `\"The user ______ is not approved to access the system.\"`.\n",
    "\n",
    "Refer to the `print()` function call in the `if` statement and observe how commas separate a string containing the first part of the message, the `username` variable, and another string containing the second part of the message.\n",
    "\n",
    "</details>"
   ]
  },
  {
   "cell_type": "markdown",
   "metadata": {
    "id": "Kvtoh6nLK4cG"
   },
   "source": [
    "#### **Question 4**\n",
    "**What message do you observe in the output when `username` is `\"sgilmore\"`?**\n"
   ]
  },
  {
   "cell_type": "markdown",
   "metadata": {
    "id": "xMiJxEh7K4cH"
   },
   "source": [
    "[Double-click to enter your responses here.]"
   ]
  },
  {
   "cell_type": "markdown",
   "metadata": {
    "id": "i-0xllOwdl8r"
   },
   "source": [
    "## Task 5\n",
    "In the next part of the algorithm, you'll be using the `.index()` method to find the index of `username` in the `approved_users` and store that index in a variable named `ind`.\n",
    "\n",
    "When used on a list, the `.index()` method will return the position of the given value in the list.\n",
    "\n",
    "Add a statement to display `ind` in the following code cell to explore the value it contains. Be sure to replace the `### YOUR CODE HERE ###` with your own code before you run the following cell."
   ]
  },
  {
   "cell_type": "code",
   "execution_count": null,
   "metadata": {
    "id": "f8C1FaF0k2OG"
   },
   "outputs": [],
   "source": [
    "# Assign `approved_users` to a list of approved usernames\n",
    "\n",
    "approved_users = [\"elarson\", \"bmoreno\", \"sgilmore\", \"eraab\", \"gesparza\"]\n",
    "\n",
    "# Assign `approved_devices` to a list of device IDs that correspond to the usernames in `approved_users`\n",
    "\n",
    "approved_devices = [\"8rp2k75\", \"hl0s5o1\", \"4n482ts\", \"a307vir\", \"3rcv4w6\"]\n",
    "\n",
    "# Assign `username` to a username\n",
    "\n",
    "username = \"sgilmore\"\n",
    "\n",
    "# Assign `ind` to the index of `username` in `approved_users`\n",
    "\n",
    "ind = approved_users.index(username)\n",
    "\n",
    "# Display the value of `ind`\n",
    "\n",
    "### YOUR CODE HERE ###\n"
   ]
  },
  {
   "cell_type": "markdown",
   "metadata": {
    "id": "EqUySUGuKPIB"
   },
   "source": [
    "<details>\n",
    "  <summary><h4><strong>Hint 1</strong></h4></summary>\n",
    "\n",
    "Use the `print()` function to display the value of `ind`.\n",
    "\n",
    "</details>"
   ]
  },
  {
   "cell_type": "markdown",
   "metadata": {
    "id": "uvLBuBxVMKNU"
   },
   "source": [
    "#### **Question 5**\n",
    "**What do you observe from the output when `username` is `\"sgilmore\"`?**\n"
   ]
  },
  {
   "cell_type": "markdown",
   "metadata": {
    "id": "KxcST8CUMKNV"
   },
   "source": [
    "[Double-click to enter your responses here.]"
   ]
  },
  {
   "cell_type": "markdown",
   "metadata": {
    "id": "uWhHEIAkk4Gt"
   },
   "source": [
    "## Task 6\n",
    "This task will allow you to build your understanding of list operations for the algorithm that you'll eventually build. First, you'll use the `.index()` method again to find the index of `username` in the `approved_users` and store that in a variable named `ind`. Then, you'll connect `ind` to the `approved_devices` and display the device ID located at the index `ind`. Afterwards, you'll run the cell to observe the result. Be sure to replace each `### YOUR CODE HERE ###` with your own code before you run the following cell."
   ]
  },
  {
   "cell_type": "code",
   "execution_count": null,
   "metadata": {
    "id": "p3OoQe894EM9"
   },
   "outputs": [],
   "source": [
    "# Assign `approved_users` to a list of approved usernames\n",
    "\n",
    "approved_users = [\"elarson\", \"bmoreno\", \"sgilmore\", \"eraab\", \"gesparza\"]\n",
    "\n",
    "# Assign `approved_devices` to a list of device IDs that correspond to the usernames in `approved_users`\n",
    "\n",
    "approved_devices = [\"8rp2k75\", \"hl0s5o1\", \"4n482ts\", \"a307vir\", \"3rcv4w6\"]\n",
    "\n",
    "# Assign `username` to a username\n",
    "\n",
    "username = \"sgilmore\"\n",
    "\n",
    "# Assign `ind` to the index of `username` in `approved_users`\n",
    "\n",
    "ind = ### YOUR CODE HERE ###\n",
    "\n",
    "# Display the device ID at the index that matches the value of `ind` in `approved_devices`\n",
    "\n",
    "print(approved_devices[### YOUR CODE HERE ###])\n",
    "    "
   ]
  },
  {
   "cell_type": "markdown",
   "metadata": {
    "id": "OSp3RAghUbpU"
   },
   "source": [
    "<details>\n",
    "  <summary><h4><strong>Hint 1</strong></h4></summary>\n",
    "\n",
    "Use the `.index()` method to get the index value of the `username` in the `approved_users`. Assign `ind` to the result.\n",
    "\n",
    "</details>"
   ]
  },
  {
   "cell_type": "markdown",
   "metadata": {
    "id": "5lUtc8DbVDFp"
   },
   "source": [
    "<details>\n",
    "  <summary><h4><strong>Hint 2</strong></h4></summary>\n",
    "\n",
    "To display the correct device ID from `approved_devices`, use `ind` as the index. Place `ind` inside the square brackets to extract the correct element from `approved_devices`.\n",
    "\n",
    "</details>"
   ]
  },
  {
   "cell_type": "markdown",
   "metadata": {
    "id": "OMIniudTWfJl"
   },
   "source": [
    "#### **Question 6**\n",
    "**What do you observe from the output when `username` is `\"sgilmore\"`?**\n"
   ]
  },
  {
   "cell_type": "markdown",
   "metadata": {
    "id": "hSjQGei7WfJm"
   },
   "source": [
    "[Double-click to enter your responses here.]"
   ]
  },
  {
   "cell_type": "markdown",
   "metadata": {
    "id": "Z6p0xuJ34MUf"
   },
   "source": [
    "## Task 7\n",
    "Your next step in creating the algorithm is to determine if a username and device ID correspond. To do this, write a conditional that checks if the `username` is an element of the `approved_devices` and if the `device_id` stored at the same index as `username` matches the `device_id` entered. You'll use the logical operator `and` to connect the two conditions. When both conditions evaluate to `True`, display a message that the username is approved and another message that the user has their assigned device. Be sure to replace each `### YOUR CODE HERE ###` with your own code before you run the following cell."
   ]
  },
  {
   "cell_type": "code",
   "execution_count": null,
   "metadata": {
    "id": "6cPaGUInGhiE"
   },
   "outputs": [],
   "source": [
    "# Assign `approved_users` to a list of approved usernames\n",
    "\n",
    "approved_users = [\"elarson\", \"bmoreno\", \"sgilmore\", \"eraab\", \"gesparza\"]\n",
    "\n",
    "# Assign `approved_devices` to a list of device IDs that correspond to the usernames in `approved_users`\n",
    "\n",
    "approved_devices = [\"8rp2k75\", \"hl0s5o1\", \"4n482ts\", \"a307vir\", \"3rcv4w6\"]\n",
    "\n",
    "# Assign `username` to a username\n",
    "\n",
    "username = \"sgilmore\"\n",
    "\n",
    "# Assign `device_id` to a device ID\n",
    "\n",
    "device_id = \"4n482ts\"\n",
    "\n",
    "# Assign `ind` to the index of `username` in `approved_users`\n",
    "\n",
    "ind = approved_users.index(username)\n",
    "\n",
    "# Conditional statement\n",
    "# If `username` belongs to `approved_users`, and if the device ID at `ind` in `approved_devices` matches `device_id`,\n",
    "# then display a message that the username is approved,\n",
    "# followed by a message that the user has the correct device\n",
    "\n",
    "if username in approved_users and ### YOUR CODE HERE ###:\n",
    "    print(\"The username\", username, \"is approved to access the system.\")\n",
    "    print(device_id, \"is the assigned device for\", username)\n"
   ]
  },
  {
   "cell_type": "markdown",
   "metadata": {
    "id": "S0BfEOi8V1P_"
   },
   "source": [
    "<details>\n",
    "  <summary><h4><strong>Hint 1</strong></h4></summary>\n",
    "\n",
    "After the logical operator `and`, write the second condition in the `if` statement using a comparison operator to check whether the element at `ind` in `approved_devices` matches `device_id`.\n",
    "\n",
    "</details>"
   ]
  },
  {
   "cell_type": "markdown",
   "metadata": {
    "id": "UbkFDkoVDwqD"
   },
   "source": [
    "<details>\n",
    "  <summary><h4><strong>Hint 2</strong></h4></summary>\n",
    "\n",
    "Use the `==` comparison operator to check whether the element at `ind` in `approved_devices` matches `device_id`.\n",
    "\n",
    "</details>"
   ]
  },
  {
   "cell_type": "markdown",
   "metadata": {
    "id": "1Fl6R6-mXIUX"
   },
   "source": [
    "#### **Question 7**\n",
    "**What do you observe from the output when `username` is `\"sgilmore\"` and `device_id` is `\"4n482ts\"`?**\n"
   ]
  },
  {
   "cell_type": "markdown",
   "metadata": {
    "id": "X0fwkZEuXIUf"
   },
   "source": [
    "[Double-click to enter your responses here.]"
   ]
  },
  {
   "cell_type": "markdown",
   "metadata": {
    "id": "9lFPzCnyHAPg"
   },
   "source": [
    "## Task 8\n",
    "It would also be helpful for users to receive messages when their username is not approved or their device ID is incorrect.\n",
    "\n",
    "Add to the code by writing an `elif` statement. This `elif` statement should run when the `username` is part of the `approved_users` but the `device_id` doesn't match the corresponding device ID in the `approved_devices`. The statement should also display two messages conveying that information.\n",
    "\n",
    "Afterwards, write an `else` statement that handles the case when the `username` does not belong to the `approved_users`. This statement should also display a message conveying that the user is not approved.\n",
    "\n",
    "Be sure to replace each `### YOUR CODE HERE ###` with your own code before you run the following cell."
   ]
  },
  {
   "cell_type": "code",
   "execution_count": null,
   "metadata": {
    "id": "DlvfIxLIFI9H"
   },
   "outputs": [],
   "source": [
    "# Assign `approved_users` to a list of approved usernames\n",
    "\n",
    "approved_users = [\"elarson\", \"bmoreno\", \"sgilmore\", \"eraab\", \"gesparza\"]\n",
    "\n",
    "# Assign `approved_devices` to a list of device IDs that correspond to the usernames in `approved_users`\n",
    "\n",
    "approved_devices = [\"8rp2k75\", \"hl0s5o1\", \"4n482ts\", \"a307vir\", \"3rcv4w6\"]\n",
    "\n",
    "# Assign `username` to a username\n",
    "\n",
    "username = \"sgilmore\"\n",
    "\n",
    "# Assign `device_id` to a device ID\n",
    "\n",
    "device_id = \"4n482ts\"\n",
    "\n",
    "# Assign `ind` to the index of `username` in `approved_users`\n",
    "\n",
    "ind = approved_users.index(username)\n",
    "\n",
    "# If statement\n",
    "# If `username` belongs to `approved_users`, and if the element at `ind` in `approved_devices` matches `device_id`,\n",
    "# then display a message that the username is approved,\n",
    "# followed by a message that the user has the correct device\n",
    "\n",
    "if username in approved_users and device_id == approved_devices[ind]:\n",
    "    print(\"The user\", username, \"is approved to access the system.\")\n",
    "    print(device_id, \"is the assigned device for\", username)\n",
    "\n",
    "# Elif statement\n",
    "# Handles the case when `username` belongs to `approved_users` but element at `ind` in `approved_devices` does not match `device_id`,\n",
    "# and displays two messages accordingly\n",
    "\n",
    "### YOUR CODE HERE ###:\n",
    "    print(\"The user\", username, \"is approved to access the system, but\", device_id, \"is not their assigned device.\")\n",
    "\n",
    "# Else statement\n",
    "# Handles the case when `username` does not belong to `approved_users`,\n",
    "# and displays a message accordingly\n",
    "\n",
    "### YOUR CODE HERE ###:\n",
    "    print(\"The user\", username, \"is not approved to access the system.\")\n"
   ]
  },
  {
   "cell_type": "markdown",
   "metadata": {
    "id": "WwXQIKT5Isjs"
   },
   "source": [
    "<details>\n",
    "  <summary><h4><strong>Hint 1</strong></h4></summary>\n",
    "\n",
    "In the `elif` statement, use the `in` operator to check whether `username` belongs to `approved_users`, use a comparison operator to check whether the element at `ind` in `approved_devices` doesn't match `device_id`, and use a logical operator to connect these two conditions to check whether both of them are met.\n",
    "\n",
    "</details>"
   ]
  },
  {
   "cell_type": "markdown",
   "metadata": {
    "id": "WCYmmHB4Isj2"
   },
   "source": [
    "<details>\n",
    "  <summary><h4><strong>Hint 2</strong></h4></summary>\n",
    "\n",
    "In the `elif` statement, use the `in` operator to check whether `username` belongs to `approved_users`, use the `!=` comparison operator to check whether the element at `ind` in `approved_devices` doesn't match `device_id`, and use the `and` logical operator to connect these two conditions to check whether both of them are met.\n",
    "\n",
    "</details>"
   ]
  },
  {
   "cell_type": "markdown",
   "metadata": {
    "id": "V9Bo5WDCIiSW"
   },
   "source": [
    "#### **Question 8**\n",
    "**What do you observe from the output when `username` is `\"sgilmore\"` and `device_id` is `\"4n482ts\"`?**\n"
   ]
  },
  {
   "cell_type": "markdown",
   "metadata": {
    "id": "IBq7GluGYFnK"
   },
   "source": [
    "[Double-click to enter your responses here.]"
   ]
  },
  {
   "cell_type": "markdown",
   "metadata": {
    "id": "gNmZaLueDnqM"
   },
   "source": [
    "## Task 9\n",
    "In this task, you'll complete your algorithm by developing a function that uses some of the code you've written in earlier tasks. This will automate the login process.\n",
    "\n",
    "There are multiple ways to use conditionals to automate the login process. In the following code, a nested conditional is used to achieve the goals of the algorithm. There is a conditional statement inside of another conditional statement. The outer conditional handles the case when the `username` is approved and the case when `username` is not approved. The inner conditional, which is placed inside the first `if` statement, handles the case when the `username` is approved and the `device_id` is correct, as well as the case when the `username` is approved and the `device_id` is incorrect.\n",
    "\n",
    "To complete this task, you must define a function named `login` that takes in two parameters, `username` and `device_id`. Afterwards, call the function and pass in different username and device ID combinations to experiment and observe the function's behavior. Be sure to replace the `### YOUR CODE HERE ###` with your own code before you run the following cell."
   ]
  },
  {
   "cell_type": "code",
   "execution_count": null,
   "metadata": {
    "id": "bhcjqvDmkNnw"
   },
   "outputs": [],
   "source": [
    "# Assign `approved_users` to a list of approved usernames\n",
    "\n",
    "approved_users = [\"elarson\", \"bmoreno\", \"sgilmore\", \"eraab\", \"gesparza\"]\n",
    "\n",
    "# Assign `approved_devices` to a list of device IDs that correspond to the usernames in `approved_users`\n",
    "\n",
    "approved_devices = [\"8rp2k75\", \"hl0s5o1\", \"4n482ts\", \"a307vir\", \"3rcv4w6\"]\n",
    "\n",
    "# Define a function named `login` that takes in two parameters, `username` and `device_id`\n",
    "\n",
    "### YOUR CODE HERE ###\n",
    "\n",
    "    # If `username` belongs to `approved_users`,\n",
    "\n",
    "    if username in approved_users:\n",
    "\n",
    "        # then display \"The user ______ is approved to access the system.\",\n",
    "\n",
    "        print(\"The user\", username, \"is approved to access the system.\")\n",
    "\n",
    "        # assign `ind` to the index of `username` in `approved_users`,\n",
    "\n",
    "        ind = approved_users.index(username)\n",
    "\n",
    "        # and execute the following conditional\n",
    "        # If `device_id` matches the element at the index `ind` in `approved_devices`,\n",
    "\n",
    "        if device_id == approved_devices[ind]:\n",
    "\n",
    "          # then display \"______ is the assigned device for ______\"\n",
    "\n",
    "          print(device_id, \"is the assigned device for\", username)\n",
    "\n",
    "        # Otherwise,\n",
    "\n",
    "        else:\n",
    "\n",
    "          # display \"______ is not their assigned device\"\n",
    "\n",
    "          print(device_id, \"is not their assigned device.\")\n",
    "\n",
    "    # Otherwise (part of the outer conditional and handles the case when `username` does not belong to `approved_users`),\n",
    "\n",
    "    else:\n",
    "\n",
    "        # Display \"The user ______ is not approved to access the system.\"\n",
    "\n",
    "        print(\"The username\", username, \"is not approved to access the system.\")\n",
    "\n",
    "# Call the function you just defined to experiment with different username and device_id combinations\n",
    "\n",
    "### YOUR CODE HERE ###\n",
    "### YOUR CODE HERE ###\n",
    "### YOUR CODE HERE ###\n"
   ]
  },
  {
   "cell_type": "markdown",
   "metadata": {
    "id": "3VpUpR6Zey9V"
   },
   "source": [
    "<details>\n",
    "  <summary><h4><strong>Hint 1</strong></h4></summary>\n",
    "\n",
    "Use the `def` keyword to start the function definition.\n",
    "\n",
    "</details>"
   ]
  },
  {
   "cell_type": "markdown",
   "metadata": {
    "id": "uoGt3HqQey9f"
   },
   "source": [
    "<details>\n",
    "  <summary><h4><strong>Hint 2</strong></h4></summary>\n",
    "\n",
    "After the `def` keyword, specify the name of the function, followed by parantheses and a colon. Inside the parantheses, specify the parameters that the function takes in.\n",
    "\n",
    "To call the function, write the name of the function, followed by parantheses, and pass in the username and device ID that you want to experiment with.\n",
    "\n",
    "</details>"
   ]
  },
  {
   "cell_type": "markdown",
   "metadata": {
    "id": "WxLVS38vhOxi"
   },
   "source": [
    "<details>\n",
    "  <summary><h4><strong>Hint 3</strong></h4></summary>\n",
    "\n",
    "After the `def` keyword, write `login(username, device_id):` to complete the function definition header.\n",
    "\n",
    "To call the function, write `login()`, and pass in the username and device ID that you want to experiment with, separated by a comma. Keep in mind that the arguments you pass in are string data.\n",
    "\n",
    "</details>"
   ]
  },
  {
   "cell_type": "markdown",
   "metadata": {
    "id": "woVZXLtPZv5i"
   },
   "source": [
    "#### **Question 9**\n",
    "**After Python enters the inner conditional, what happens when the `device_id` is correct, and what happens when the `device_id` is incorrect?**\n"
   ]
  },
  {
   "cell_type": "markdown",
   "metadata": {
    "id": "K3PHA77lr4nb"
   },
   "source": [
    "[Double-click to enter your responses here.]"
   ]
  },
  {
   "cell_type": "markdown",
   "metadata": {
    "id": "ru2ytGBLCh4q"
   },
   "source": [
    "## Conclusion\n",
    "\n",
    "**What are your key takeaways from this lab?**"
   ]
  },
  {
   "cell_type": "markdown",
   "metadata": {
    "id": "ls2WEGqsiSAd"
   },
   "source": [
    "[Double-click to enter your responses here.]"
   ]
  }
 ],
 "metadata": {
  "colab": {
   "provenance": [
    {
     "file_id": "1KTA84JmoWjf4-1MyXsnnxxX2mlwEZwa7",
     "timestamp": 1667280576202
    }
   ]
  },
  "kernelspec": {
   "display_name": "Python 3",
   "language": "python",
   "name": "python3"
  },
  "language_info": {
   "codemirror_mode": {
    "name": "ipython",
    "version": 3
   },
   "file_extension": ".py",
   "mimetype": "text/x-python",
   "name": "python",
   "nbconvert_exporter": "python",
   "pygments_lexer": "ipython3",
   "version": "3.7.6"
  }
 },
 "nbformat": 4,
 "nbformat_minor": 1
}
