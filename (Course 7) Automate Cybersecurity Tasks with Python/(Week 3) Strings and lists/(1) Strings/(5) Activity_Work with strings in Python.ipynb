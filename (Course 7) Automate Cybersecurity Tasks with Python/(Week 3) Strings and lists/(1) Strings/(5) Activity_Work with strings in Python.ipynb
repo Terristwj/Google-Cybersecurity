{
 "cells": [
  {
   "cell_type": "markdown",
   "metadata": {
    "id": "5e2a85c3-4d7c-43c0-b9dd-ef7af16eb73d"
   },
   "source": [
    "# Activity: Work with strings in Python"
   ]
  },
  {
   "cell_type": "markdown",
   "metadata": {
    "id": "07edb7a1-c2cb-49cb-94e6-886268e48715"
   },
   "source": [
    "## Introduction\n",
    "\n",
    "Security analysts work with a lot of string data. For example, some security analysts work on creating and updating IDs such as employee IDs and device IDs, which are commonly represented as strings. As another example, certain network activity will be stored as string data. Becoming comfortable working with strings in Python is essential for the work of a security analyst.\n",
    "\n",
    "In this lab, you'll practice creating Python code and working with strings. You'll work with an employee ID, a device ID, and a URL, all represented as string data."
   ]
  },
  {
   "cell_type": "markdown",
   "metadata": {
    "id": "bM8zStFIWIkI"
   },
   "source": [
    "<details><summary><h2>Tips for completing this lab</h2></summary>\n",
    "\n",
    "As you navigate this lab, keep the following tips in mind:\n",
    "\n",
    "- `### YOUR CODE HERE ###` indicates where you should write code. Be sure to replace that with your own code before running the code cell.\n",
    "- Feel free to open the hints for additional guidance as you work on each task. \n",
    "- To enter your answer to a question, double-click the markdown cell to edit. Be sure to replace the \"[Double-click to enter your responses here.]\" with your own answer.\n",
    "- You can save your work manually by clicking File and then Save in the menu bar at the top of the notebook. \n",
    "- You can download your work locally by clicking File and then Download and then specifying your preferred file format in the menu bar at the top of the notebook. \n",
    "</details>"
   ]
  },
  {
   "cell_type": "markdown",
   "metadata": {
    "id": "vrD-eN3FVY65"
   },
   "source": [
    "## Scenario\n",
    "\n",
    "You're working as a security analyst, and you are responsible for writing programs in Python to automate updating employee IDs, extracting characters from a device ID, and extracting components from a URL."
   ]
  },
  {
   "cell_type": "markdown",
   "metadata": {
    "id": "zSti7mdls5Ht"
   },
   "source": [
    "## Task 1\n",
    "\n",
    "In your organization, employee IDs are currently either four digits or five digits in length. In this task, you're given a four-digit numeric employee ID stored in a variable called `employee_id`. Convert this to a string format and store the result in the same variable. Later, you'll update this employee ID string so that it complies with a new standardized format.\n",
    "\n",
    "Complete the following code. Be sure to replace the `### YOUR CODE HERE ###` with your own code before you run the following cell."
   ]
  },
  {
   "cell_type": "code",
   "execution_count": null,
   "metadata": {
    "id": "G2SllNnuzI8T"
   },
   "outputs": [],
   "source": [
    "# Assign `employee_id` to a four digit number as an initial value\n",
    "\n",
    "employee_id = 4186\n",
    "\n",
    "# Display the data type of `employee_id`\n",
    "\n",
    "print(type(employee_id))\n",
    "\n",
    "# Reassign `employee_id` to the same value but in the form of a string\n",
    "\n",
    "employee_id = ### YOUR CODE HERE ###\n",
    "\n",
    "# Display the data type of `employee_id` now\n",
    "\n",
    "print(type(employee_id))\n"
   ]
  },
  {
   "cell_type": "markdown",
   "metadata": {
    "id": "572a0c93-025b-4787-8fee-f17761fb8137"
   },
   "source": [
    "<details>\n",
    "    <summary><h4><strong>Hint 1</strong></h4></summary>\n",
    "\n",
    "Use the `str()` function in Python to convert the initial value of the `employee_id` variable into a string.  \n",
    "    \n",
    "</details>"
   ]
  },
  {
   "cell_type": "markdown",
   "metadata": {
    "id": "AE8E5fhC05im"
   },
   "source": [
    "<details>\n",
    "    <summary><h4><strong>Hint 2</strong></h4></summary>\n",
    "\n",
    "Pass `employee_id` into the `str()` function.\n",
    "    \n",
    "</details>"
   ]
  },
  {
   "cell_type": "markdown",
   "metadata": {
    "id": "hydEiSfizxnj"
   },
   "source": [
    "#### **Question 1**\n",
    "**What do you observe about the data type of `employee_id` the first time it's displayed? What do you observe about the data type of `employee_id` the second time it's displayed (after the variable is reassigned)?**"
   ]
  },
  {
   "cell_type": "markdown",
   "metadata": {
    "id": "znZOdxL5i-7-"
   },
   "source": [
    "[Double-click to enter your responses here.]\n"
   ]
  },
  {
   "cell_type": "markdown",
   "metadata": {
    "id": "jx7y7YTk1Up1"
   },
   "source": [
    "## Task 2\n",
    "\n",
    "Imagine that you have just been informed of a new criteria for employee IDs. They must all be five digits long for standardization purposes.\n",
    "\n",
    "In this task, you will write a conditional statement that displays a message if the length of the employee ID is less than five digits. \n",
    "\n",
    "Be sure to replace the `### YOUR CODE HERE ###` with your own code before you run the following cell.\n"
   ]
  },
  {
   "cell_type": "code",
   "execution_count": null,
   "metadata": {
    "id": "XMiKlqT-4Oxr"
   },
   "outputs": [],
   "source": [
    "# Assign `employee_id` to a four digit number as an initial value\n",
    "\n",
    "employee_id = 4186\n",
    "\n",
    "# Reassign `employee_id` to the same value but in the form of a string\n",
    "\n",
    "employee_id = str(employee_id)\n",
    "\n",
    "# Conditional statement that displays a message if the length of `employee_id` is less than five digits\n",
    "\n",
    "### YOUR CODE HERE ###:\n",
    "    print(\"This employee ID has less than five digits. It does not meet length requirements.\")\n",
    "    "
   ]
  },
  {
   "cell_type": "markdown",
   "metadata": {
    "id": "51Le_bn31Up2"
   },
   "source": [
    "<details>\n",
    "    <summary><h4><strong>Hint 1</strong></h4></summary>\n",
    "\n",
    "The `len()` function in Python can be used to get the length of `employee_id`.\n",
    "    \n",
    "</details>"
   ]
  },
  {
   "cell_type": "markdown",
   "metadata": {
    "id": "UMgDUngT1Up2"
   },
   "source": [
    "<details>\n",
    "    <summary><h4><strong>Hint 2</strong></h4></summary>\n",
    "\n",
    "Start the conditional statement with the `if` keyword.\n",
    "    \n",
    "</details>"
   ]
  },
  {
   "cell_type": "markdown",
   "metadata": {
    "id": "xMHf8n4BUv94"
   },
   "source": [
    "<details>\n",
    "    <summary><h4><strong>Hint 3</strong></h4></summary>\n",
    "\n",
    "To write the condition in the conditional statement, use the `<` comparison operator to check whether the length of `employee_id` is less than `5`. Make sure to place the condition between the `if` and the `:`.\n",
    "    \n",
    "</details>"
   ]
  },
  {
   "cell_type": "markdown",
   "metadata": {
    "id": "kSAu5xoIQsT3"
   },
   "source": [
    "## Task 3\n",
    "\n",
    "In this task, you'll build upon the previous code. If an employee ID is only four digits, you'll use concatenation to create a five-digit employee ID number.\n",
    "\n",
    "Concatenation is a process that allows you to merge strings together. The addition operator (`+`) in Python allows you to concatenate two strings.\n",
    "\n",
    "Write an `if` statement that evaluates whether the length of `employee_id` is less than `5`. When the condition evaluates to `True`, reassign `employee_id` by concatenating `\"E\"` in front of the four-digit employee ID to create a five character employee ID. Then, display `employee_id` again. Be sure to replace each `### YOUR CODE HERE ###` with your own code before you run the following cell."
   ]
  },
  {
   "cell_type": "code",
   "execution_count": null,
   "metadata": {
    "id": "Io77ostT6xWS"
   },
   "outputs": [],
   "source": [
    "# Assign `employee_id` to a four digit number as an initial value\n",
    "\n",
    "employee_id = 4186\n",
    "\n",
    "# Reassign `employee_id` to the same value but in the form of a string\n",
    "\n",
    "employee_id = str(employee_id)\n",
    "\n",
    "# Display the `employee_id` as it currently stands\n",
    "\n",
    "print(employee_id)\n",
    "\n",
    "# Conditional statement that updates the `employee_id` if its length is less than 5 digits\n",
    "\n",
    "### YOUR CODE HERE ###:\n",
    "    employee_id ### YOUR CODE HERE ###\n",
    "    \n",
    "# Display the `employee_id` after the update\n",
    "    \n",
    "### YOUR CODE HERE ###\n"
   ]
  },
  {
   "cell_type": "markdown",
   "metadata": {
    "id": "6wcuH-6dUv95"
   },
   "source": [
    "<details>\n",
    "    <summary><h4><strong>Hint 1</strong></h4></summary>\n",
    "\n",
    "To complete the header of the conditional statement, use the `if` keyword to start, the `len()` function to get the length of `employee_id`, and the `<` comparison operator to check whether the length is less than `5`. Make sure to write this before the `:`.\n",
    "    \n",
    "</details>"
   ]
  },
  {
   "cell_type": "markdown",
   "metadata": {
    "id": "w_EoTGoX_pfj"
   },
   "source": [
    "<details>\n",
    "    <summary><h4><strong>Hint 2</strong></h4></summary>\n",
    "\n",
    "Use the `=` assignment operator to update the value of the `employee_id` variable. Update the value of `employee_id` to the concatenation of `\"E\"` with the variable's current value. The `\"E\"` should appear to the left of the current value.\n",
    "\n",
    "</details>"
   ]
  },
  {
   "cell_type": "markdown",
   "metadata": {
    "id": "rXP7GNPuBMmG"
   },
   "source": [
    "<details>\n",
    "    <summary><h4><strong>Hint 3</strong></h4></summary>\n",
    "\n",
    "Use the `print()` function to display `employee_id` after the update.\n",
    "    \n",
    "</details>"
   ]
  },
  {
   "cell_type": "markdown",
   "metadata": {
    "id": "I5Kn8z-kvuBr"
   },
   "source": [
    "## Task 4\n",
    "\n",
    "Now you'll move on to the next part of your task. Imagine that the characters in a device ID convey technical information about the device. You'll need to extract characters in specific positions from the device ID. Start off by extracting the fourth character.  \n",
    "\n",
    "The variable `device_id` represents a device ID containing alphanumeric characters; it's already stored as a string. \n",
    "\n",
    "Be sure to replace the `### YOUR CODE HERE ###` with your own code before you run the following cell."
   ]
  },
  {
   "cell_type": "code",
   "execution_count": null,
   "metadata": {
    "id": "L8L4YxUR_vfe"
   },
   "outputs": [],
   "source": [
    "# Assign `device_id` to a string that contains alphanumeric characters\n",
    "\n",
    "device_id = \"r262c36\"\n",
    "\n",
    "# Extract the fourth character in `device_id` and display it\n",
    "\n",
    "print(device_id### YOUR CODE HERE ###)\n",
    "      "
   ]
  },
  {
   "cell_type": "markdown",
   "metadata": {
    "id": "2nXu8LejEqrd"
   },
   "source": [
    "<details>\n",
    "    <summary><h4><strong>Hint 1</strong></h4></summary>\n",
    "\n",
    "Use a pair of square brackets, passing in the appropriate index value, in order to extract the fourth character in `device_id`.\n",
    "    \n",
    "</details>"
   ]
  },
  {
   "cell_type": "markdown",
   "metadata": {
    "id": "HzdBK9IJEqrd"
   },
   "source": [
    "<details>\n",
    "    <summary><h4><strong>Hint 2</strong></h4></summary>\n",
    "\n",
    "In Python, index values start at 0.\n",
    "    \n",
    "</details>"
   ]
  },
  {
   "cell_type": "markdown",
   "metadata": {
    "id": "FVGnk7-jBpM1"
   },
   "source": [
    "<details>\n",
    "    <summary><h4><strong>Hint 3</strong></h4></summary>\n",
    "\n",
    "Given that index values start at 0 in Python, an index value of 3 corresponds to the fourth character in a sequence.\n",
    "    \n",
    "</details>"
   ]
  },
  {
   "cell_type": "markdown",
   "metadata": {
    "id": "xqO7XbHeFpig"
   },
   "source": [
    "## Task 5\n",
    "Now you will also need to extract the first through the third characters in the device ID. So take a slice of the device ID. You can achieve this using bracket notation in Python. Then, display the slice to examine the result.\n",
    "\n",
    "Be sure to replace the `### YOUR CODE HERE ###` with your own code before you run the following cell."
   ]
  },
  {
   "cell_type": "code",
   "execution_count": null,
   "metadata": {
    "id": "qZ-1BzTiBRrC"
   },
   "outputs": [],
   "source": [
    "# Assign `device_id` to a string that contains alphanumeric characters\n",
    "\n",
    "device_id = \"r262c36\"\n",
    "\n",
    "# Extract the first through the third characters in `device_id` and display the result\n",
    "\n",
    "print(device_id### YOUR CODE HERE ###)\n",
    "      "
   ]
  },
  {
   "cell_type": "markdown",
   "metadata": {
    "id": "F4kCryYxKIwn"
   },
   "source": [
    "<details>\n",
    "    <summary><h4><strong>Hint 1</strong></h4></summary>\n",
    "\n",
    "Use a pair of square brackets, passing in the appropriate index values, in order to extract the first through the third characters in `device_id`.\n",
    "\n",
    "Inside the square brackets, use a `:` to separate the first index value (the starting index value) and second index value (ending index value).\n",
    "    \n",
    "</details>"
   ]
  },
  {
   "cell_type": "markdown",
   "metadata": {
    "id": "3gk28FHRKIwn"
   },
   "source": [
    "<details>\n",
    "    <summary><h4><strong>Hint 2</strong></h4></summary>\n",
    "\n",
    "Keep in mind that the second index value passed into bracket notation is exclusive. In other words, the index value passed into the square brackets after the `:` is not included when the string is sliced. The resulting slice will not include the character at that index. \n",
    "    \n",
    "</details>"
   ]
  },
  {
   "cell_type": "markdown",
   "metadata": {
    "id": "MXE3aF3HKkVW"
   },
   "source": [
    "<details>\n",
    "    <summary><h4><strong>Hint 3</strong></h4></summary>\n",
    "\n",
    "Recall that the second index value passed into bracket notation is exclusive and indexing in Python starts at 0. The first index value should be 0 and the second index value should be 3, in order to extract the first through the third characters in `device_id`.\n",
    "    \n",
    "</details>"
   ]
  },
  {
   "cell_type": "markdown",
   "metadata": {
    "id": "ofuRLadDKra6"
   },
   "source": [
    "## Task 6\n",
    "You'll now proceed to the last part of your task. This involves extracting components of a URL.\n",
    "\n",
    "You'll work with string indices to display various components of a URL that's stored in the URL variable. First, you'll extract and display the protocol of the URL and the `://` characters that follow it using string slicing. Consider that the protocol is in the secure format of `https` when determining the indices for your slice.\n",
    "\n",
    "Be sure to replace the `### YOUR CODE HERE ###` with your own code before you run the following cell."
   ]
  },
  {
   "cell_type": "code",
   "execution_count": null,
   "metadata": {
    "id": "HkSYpFWPGbw0"
   },
   "outputs": [],
   "source": [
    "# Assign `url` to a specific URL\n",
    "\n",
    "url = \"https://exampleURL1.com\"\n",
    "\n",
    "# Extract the protocol of `url` along with the syntax following it, display the result\n",
    "\n",
    "### YOUR CODE HERE ###\n"
   ]
  },
  {
   "cell_type": "markdown",
   "metadata": {
    "id": "YYS-NEsTMbMT"
   },
   "source": [
    "<details>\n",
    "    <summary><h4><strong>Hint 1</strong></h4></summary>\n",
    "\n",
    "Note that `https://` is eight characters long.\n",
    "    \n",
    "</details>"
   ]
  },
  {
   "cell_type": "markdown",
   "metadata": {
    "id": "ahtv7SvEMbMT"
   },
   "source": [
    "<details>\n",
    "    <summary><h4><strong>Hint 2</strong></h4></summary>\n",
    "\n",
    "Use a pair of square brackets to slice the string stored in `url`, passing in two index values separated by `:`. Keep in mind that the second index value is exclusive and that indexing in Python starts at 0.\n",
    "    \n",
    "</details>"
   ]
  },
  {
   "cell_type": "markdown",
   "metadata": {
    "id": "_dq4tZ_kMbMT"
   },
   "source": [
    "<details>\n",
    "    <summary><h4><strong>Hint 3</strong></h4></summary>\n",
    "\n",
    "Use the `print()` function to display the slice.\n",
    "    \n",
    "</details>"
   ]
  },
  {
   "cell_type": "markdown",
   "metadata": {
    "id": "ESKyCxglOUy7"
   },
   "source": [
    "## Task 7\n",
    "\n",
    "Later in this lab, you'll extract the domain extension. To prepare for this, use the `.index()` method to identify the index where the domain extension `.com` is located in the given URL.\n",
    "\n",
    "Be sure to replace the `### YOUR CODE HERE ###` with your own code before you run the following cell."
   ]
  },
  {
   "cell_type": "code",
   "execution_count": null,
   "metadata": {
    "id": "ryYFvPg3Li2P"
   },
   "outputs": [],
   "source": [
    "# Assign `url` to a specific URL\n",
    "\n",
    "url = \"https://exampleURL1.com\"\n",
    "\n",
    "# Display the index where the domain extension \".com\" is located in `url`\n",
    "\n",
    "print(### YOUR CODE HERE ###)\n",
    "    "
   ]
  },
  {
   "cell_type": "markdown",
   "metadata": {
    "id": "QdvhH8Co-CCg"
   },
   "source": [
    "<details>\n",
    "    <summary><h4><strong>Hint 1</strong></h4></summary>\n",
    "\n",
    "Apply the `.index()` method to `url` in order to get the appropriate index. The `.index()` method takes in a substring, and if that substring is located in the original string, it returns the index where that substring starts to occur in the original string.\n",
    "    \n",
    "</details>"
   ]
  },
  {
   "cell_type": "markdown",
   "metadata": {
    "id": "Uhsxwf_S-CCg"
   },
   "source": [
    "<details>\n",
    "    <summary><h4><strong>Hint 2</strong></h4></summary>\n",
    "\n",
    "Call `url.index()`, and inside the parentheses, pass in the targeted domain extension as a string.\n",
    "    \n",
    "</details>"
   ]
  },
  {
   "cell_type": "markdown",
   "metadata": {
    "id": "QE2QVrWw9xDF"
   },
   "source": [
    "## Task 8\n",
    "It's a good idea to save important data in variables when programming. This allows for quick and easy tracking and reuse of information. \n",
    "\n",
    "Store the output of the `.index()` method in a variable called `ind`, which is short for index. This index represents the position where the domain extension `\".com\"` starts in the `url`. Be sure to replace the `### YOUR CODE HERE ###` with your own code before you run the following cell. Note that running this cell will not produce an output."
   ]
  },
  {
   "cell_type": "code",
   "execution_count": null,
   "metadata": {
    "id": "WAJvwu4UT0HC"
   },
   "outputs": [],
   "source": [
    "# Assign `url` to a specific URL\n",
    "\n",
    "url = \"https://exampleURL1.com\"\n",
    "\n",
    "# Assign `ind` to the output of applying `.index()` to `url` in order to extract the starting index of \".com\" in `url` \n",
    "\n",
    "ind = ### YOUR CODE HERE ###\n"
   ]
  },
  {
   "cell_type": "markdown",
   "metadata": {
    "id": "RvzA00XL-GVQ"
   },
   "source": [
    "<details>\n",
    "    <summary><h4><strong>Hint 1</strong></h4></summary>\n",
    "\n",
    "To assign the extracted index to the `ind` variable, use the `.index()` method to the right of the `=` assignment operator. \n",
    "    \n",
    "</details>"
   ]
  },
  {
   "cell_type": "markdown",
   "metadata": {
    "id": "X9R0JgY3-GVQ"
   },
   "source": [
    "<details>\n",
    "    <summary><h4><strong>Hint 2</strong></h4></summary>\n",
    "\n",
    "Call `url.index()`, and inside the parantheses, pass in the targeted domain extension as a string. Be sure to place this to the right of the `=` assignment operator, so that the result is assigned to `ind`.\n",
    "    \n",
    "</details>"
   ]
  },
  {
   "cell_type": "markdown",
   "metadata": {
    "id": "x3alBA-B_0CX"
   },
   "source": [
    "## Task 9\n",
    "You can use string slicing to also extract the domain extension of a URL. To do so, you can create a slice. The starting index should be the `ind` variable. This contains the index where the domain extension begins. The ending index should be `ind + 4` (since `\".com\"` is four characters long). Sometimes, like in this situation, it's easier to express the ending index in relation to the starting index. Examine the following code, run it as is, and observe the output."
   ]
  },
  {
   "cell_type": "code",
   "execution_count": null,
   "metadata": {
    "id": "B05TSVrLMJDU"
   },
   "outputs": [],
   "source": [
    "# Assign `url` to a specific URL\n",
    "\n",
    "url = \"https://exampleURL1.com\"\n",
    "\n",
    "# Assign `ind` to the output of applying `.index()` to `url` in order to extract the starting index of \".com\" in `url` \n",
    "\n",
    "ind = url.index(\".com\")\n",
    "\n",
    "# Extract the domain extension in `url` and display it\n",
    "\n",
    "print(url[ind:ind+4])\n"
   ]
  },
  {
   "cell_type": "markdown",
   "metadata": {
    "id": "KdB13f4x3JzH"
   },
   "source": [
    "#### **Question 2**\n",
    "**What does this code output and why?**"
   ]
  },
  {
   "cell_type": "markdown",
   "metadata": {
    "id": "iLYsbTFs3dbI"
   },
   "source": [
    "[Double-click to enter your responses here.]\n",
    "\n",
    "\n"
   ]
  },
  {
   "cell_type": "markdown",
   "metadata": {
    "id": "yl43AcPzBc_7"
   },
   "source": [
    "## Task 10\n",
    "Finally, extract the website name from the given URL using string slicing and the `ind` variable that you defined earlier. In the given URL, the website name is `\"exampleURL1\"`. Be sure to replace the `### YOUR CODE HERE ###` with your own code before you run the following cell."
   ]
  },
  {
   "cell_type": "code",
   "execution_count": null,
   "metadata": {
    "id": "o0ZD8WAeQzPE"
   },
   "outputs": [],
   "source": [
    "# Assign `url` to a specific URL\n",
    "\n",
    "url = \"https://exampleURL1.com\"\n",
    "\n",
    "# Assign `ind` to the output of applying `.index()` to `url` in order to extract the starting index of \".com\" in `url` \n",
    "\n",
    "ind = url.index(\".com\")\n",
    "\n",
    "# Extract the website name in `url` and display it\n",
    "\n",
    "print(### YOUR CODE HERE ###)\n",
    "    "
   ]
  },
  {
   "cell_type": "markdown",
   "metadata": {
    "id": "xsVXZafGVfVw"
   },
   "source": [
    "<details>\n",
    "    <summary><h4><strong>Hint 1</strong></h4></summary>\n",
    "\n",
    "In order to extract the website name in the given URL, use a pair of square brackets to create a slice of `url`, passing in a start index and an ending index, separating the two with `:`.\n",
    "    \n",
    "</details>"
   ]
  },
  {
   "cell_type": "markdown",
   "metadata": {
    "id": "ml549eeHWHmu"
   },
   "source": [
    "<details>\n",
    "    <summary><h4><strong>Hint 2</strong></h4></summary>\n",
    "\n",
    "The starting index should be set to 8, since this is the position after the protocol and the `://` syntax ends and where the website name begins. The ending index should be set to the position where the `.com` domain name begins.\n",
    "    \n",
    "</details>"
   ]
  },
  {
   "cell_type": "markdown",
   "metadata": {
    "id": "BmvPYtFqEMc1"
   },
   "source": [
    "## Conclusion\n",
    "**What are your key takeaways from this lab?**\n",
    "\n",
    "[Double-click to enter your responses here.]\n",
    "\n",
    "\n",
    "    \n",
    "\n",
    "\n",
    "\n",
    "\n",
    "\n"
   ]
  }
 ],
 "metadata": {
  "colab": {
   "provenance": [
    {
     "file_id": "1E8fUdfFmtwFILyLWHVCUDkwcYAwQ9BZf",
     "timestamp": 1666706453836
    }
   ]
  },
  "kernelspec": {
   "display_name": "Python 3",
   "language": "python",
   "name": "python3"
  },
  "language_info": {
   "codemirror_mode": {
    "name": "ipython",
    "version": 3
   },
   "file_extension": ".py",
   "mimetype": "text/x-python",
   "name": "python",
   "nbconvert_exporter": "python",
   "pygments_lexer": "ipython3",
   "version": "3.7.6"
  }
 },
 "nbformat": 4,
 "nbformat_minor": 1
}
